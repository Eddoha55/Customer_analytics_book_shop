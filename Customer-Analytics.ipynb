{
 "cells": [
  {
   "cell_type": "code",
   "execution_count": 2,
   "metadata": {},
   "outputs": [],
   "source": [
    "import numpy as np\n",
    "import pandas as pd\n",
    "import sklearn as sk\n",
    "import matplotlib.pyplot as plt\n",
    "import seaborn as sns\n",
    "import statsmodels\n",
    "import statsmodels.api as sm\n",
    "from scipy.stats import chisquare\n",
    "import scipy\n",
    "import re"
   ]
  },
  {
   "cell_type": "code",
   "execution_count": 3,
   "metadata": {},
   "outputs": [],
   "source": [
    "# Lecture des fichiers csv.\n",
    "df_csts = pd.read_csv('customers.csv', sep=',')\n",
    "df_prod= pd.read_csv('products.csv', sep=',')\n",
    "df_trans= pd.read_csv('transactions.csv', sep=',')"
   ]
  },
  {
   "cell_type": "code",
   "execution_count": 4,
   "metadata": {},
   "outputs": [],
   "source": [
    "def format_col(value_column, valid_format):\n",
    "    found = re.search(valid_format, value_column)\n",
    "    if found is None:\n",
    "        print('{} doest not match format.'.format(value_column))\n",
    "        return np.nan\n",
    "    else:\n",
    "        return value_column"
   ]
  },
  {
   "cell_type": "markdown",
   "metadata": {},
   "source": [
    "# Mission n°1"
   ]
  },
  {
   "cell_type": "markdown",
   "metadata": {},
   "source": [
    "# Jointure avec la table d'association pour repérer les erreurs"
   ]
  },
  {
   "cell_type": "code",
   "execution_count": 5,
   "metadata": {},
   "outputs": [],
   "source": [
    "df_joint1=pd.merge(df_trans,df_prod,on='id_prod', how = \"right\")\n",
    "df_joint2=pd.merge(df_trans,df_csts,on='client_id',  how = \"right\")"
   ]
  },
  {
   "cell_type": "code",
   "execution_count": 6,
   "metadata": {},
   "outputs": [
    {
     "data": {
      "text/plain": [
       "id_prod       False\n",
       "date           True\n",
       "session_id     True\n",
       "client_id      True\n",
       "price         False\n",
       "categ         False\n",
       "dtype: bool"
      ]
     },
     "execution_count": 6,
     "metadata": {},
     "output_type": "execute_result"
    }
   ],
   "source": [
    "# on remarque que certains produits sont dans la table transactions mais pas dans produits > erreur fiche produit\n",
    "df_joint1.isnull().any()"
   ]
  },
  {
   "cell_type": "code",
   "execution_count": 7,
   "metadata": {},
   "outputs": [
    {
     "data": {
      "text/plain": [
       "id_prod        True\n",
       "date           True\n",
       "session_id     True\n",
       "client_id     False\n",
       "sex           False\n",
       "birth         False\n",
       "dtype: bool"
      ]
     },
     "execution_count": 7,
     "metadata": {},
     "output_type": "execute_result"
    }
   ],
   "source": [
    "# certains clients sont dans la base de données de clients mais n'ont pas fait de transactions\n",
    "df_joint2.isnull().any()"
   ]
  },
  {
   "cell_type": "code",
   "execution_count": 8,
   "metadata": {},
   "outputs": [
    {
     "data": {
      "text/html": [
       "<div>\n",
       "<style scoped>\n",
       "    .dataframe tbody tr th:only-of-type {\n",
       "        vertical-align: middle;\n",
       "    }\n",
       "\n",
       "    .dataframe tbody tr th {\n",
       "        vertical-align: top;\n",
       "    }\n",
       "\n",
       "    .dataframe thead th {\n",
       "        text-align: right;\n",
       "    }\n",
       "</style>\n",
       "<table border=\"1\" class=\"dataframe\">\n",
       "  <thead>\n",
       "    <tr style=\"text-align: right;\">\n",
       "      <th></th>\n",
       "      <th>client_id</th>\n",
       "      <th>sex</th>\n",
       "      <th>birth</th>\n",
       "      <th>id_prod</th>\n",
       "      <th>date</th>\n",
       "      <th>session_id</th>\n",
       "      <th>price</th>\n",
       "      <th>categ</th>\n",
       "    </tr>\n",
       "  </thead>\n",
       "  <tbody>\n",
       "    <tr>\n",
       "      <th>0</th>\n",
       "      <td>c_4410</td>\n",
       "      <td>f</td>\n",
       "      <td>1967</td>\n",
       "      <td>0_1455</td>\n",
       "      <td>2021-03-22 14:29:25.189266</td>\n",
       "      <td>s_9942</td>\n",
       "      <td>8.99</td>\n",
       "      <td>0.0</td>\n",
       "    </tr>\n",
       "    <tr>\n",
       "      <th>1</th>\n",
       "      <td>c_4410</td>\n",
       "      <td>f</td>\n",
       "      <td>1967</td>\n",
       "      <td>0_1376</td>\n",
       "      <td>2021-09-24 22:58:27.418343</td>\n",
       "      <td>s_94984</td>\n",
       "      <td>16.24</td>\n",
       "      <td>0.0</td>\n",
       "    </tr>\n",
       "    <tr>\n",
       "      <th>2</th>\n",
       "      <td>c_4410</td>\n",
       "      <td>f</td>\n",
       "      <td>1967</td>\n",
       "      <td>1_312</td>\n",
       "      <td>2022-01-29 14:07:47.482092</td>\n",
       "      <td>s_156960</td>\n",
       "      <td>24.56</td>\n",
       "      <td>1.0</td>\n",
       "    </tr>\n",
       "    <tr>\n",
       "      <th>3</th>\n",
       "      <td>c_4410</td>\n",
       "      <td>f</td>\n",
       "      <td>1967</td>\n",
       "      <td>1_653</td>\n",
       "      <td>2021-07-29 23:34:41.866951</td>\n",
       "      <td>s_68860</td>\n",
       "      <td>25.99</td>\n",
       "      <td>1.0</td>\n",
       "    </tr>\n",
       "    <tr>\n",
       "      <th>4</th>\n",
       "      <td>c_4410</td>\n",
       "      <td>f</td>\n",
       "      <td>1967</td>\n",
       "      <td>0_1110</td>\n",
       "      <td>2021-11-04 16:28:30.169021</td>\n",
       "      <td>s_114715</td>\n",
       "      <td>4.71</td>\n",
       "      <td>0.0</td>\n",
       "    </tr>\n",
       "  </tbody>\n",
       "</table>\n",
       "</div>"
      ],
      "text/plain": [
       "  client_id sex  birth id_prod                        date session_id  price  \\\n",
       "0    c_4410   f   1967  0_1455  2021-03-22 14:29:25.189266     s_9942   8.99   \n",
       "1    c_4410   f   1967  0_1376  2021-09-24 22:58:27.418343    s_94984  16.24   \n",
       "2    c_4410   f   1967   1_312  2022-01-29 14:07:47.482092   s_156960  24.56   \n",
       "3    c_4410   f   1967   1_653  2021-07-29 23:34:41.866951    s_68860  25.99   \n",
       "4    c_4410   f   1967  0_1110  2021-11-04 16:28:30.169021   s_114715   4.71   \n",
       "\n",
       "   categ  \n",
       "0    0.0  \n",
       "1    0.0  \n",
       "2    1.0  \n",
       "3    1.0  \n",
       "4    0.0  "
      ]
     },
     "execution_count": 8,
     "metadata": {},
     "output_type": "execute_result"
    }
   ],
   "source": [
    "df_joint=pd.merge(df_csts,df_trans,on='client_id', how='left')\n",
    "df_joint=pd.merge(df_joint,df_prod,on='id_prod',how='left')\n",
    "df_joint.head()"
   ]
  },
  {
   "cell_type": "code",
   "execution_count": 9,
   "metadata": {},
   "outputs": [
    {
     "data": {
      "text/plain": [
       "client_id     False\n",
       "sex           False\n",
       "birth         False\n",
       "id_prod        True\n",
       "date           True\n",
       "session_id     True\n",
       "price          True\n",
       "categ          True\n",
       "dtype: bool"
      ]
     },
     "execution_count": 9,
     "metadata": {},
     "output_type": "execute_result"
    }
   ],
   "source": [
    "df_joint.isnull().any()"
   ]
  },
  {
   "cell_type": "code",
   "execution_count": 10,
   "metadata": {},
   "outputs": [
    {
     "data": {
      "text/plain": [
       "client_id    0\n",
       "sex          0\n",
       "birth        0\n",
       "dtype: int64"
      ]
     },
     "execution_count": 10,
     "metadata": {},
     "output_type": "execute_result"
    }
   ],
   "source": [
    "# On identifie les clients qui n'ont pas fait de transactions\n",
    "df_csts.loc[~df_csts[\"client_id\"].isin(df_joint[\"client_id\"])].count()\n",
    "# Ils sont 21, sur une base totale de 8623, soit moins de 0,2% du total"
   ]
  },
  {
   "cell_type": "code",
   "execution_count": 11,
   "metadata": {},
   "outputs": [
    {
     "data": {
      "text/plain": [
       "id_prod    22\n",
       "price      22\n",
       "categ      22\n",
       "dtype: int64"
      ]
     },
     "execution_count": 11,
     "metadata": {},
     "output_type": "execute_result"
    }
   ],
   "source": [
    "# On identifie les produits qui n'ont pas été vendu\n",
    "df_prod.loc[~df_prod[\"id_prod\"].isin(df_joint[\"id_prod\"])].count()\n",
    "# Ils sont 22, sur une base totale de 8623, soit moins de 0,2% du total"
   ]
  },
  {
   "cell_type": "code",
   "execution_count": 12,
   "metadata": {},
   "outputs": [
    {
     "data": {
      "text/html": [
       "<div>\n",
       "<style scoped>\n",
       "    .dataframe tbody tr th:only-of-type {\n",
       "        vertical-align: middle;\n",
       "    }\n",
       "\n",
       "    .dataframe tbody tr th {\n",
       "        vertical-align: top;\n",
       "    }\n",
       "\n",
       "    .dataframe thead th {\n",
       "        text-align: right;\n",
       "    }\n",
       "</style>\n",
       "<table border=\"1\" class=\"dataframe\">\n",
       "  <thead>\n",
       "    <tr style=\"text-align: right;\">\n",
       "      <th></th>\n",
       "      <th>id_prod</th>\n",
       "      <th>date</th>\n",
       "      <th>session_id</th>\n",
       "      <th>client_id</th>\n",
       "    </tr>\n",
       "  </thead>\n",
       "  <tbody>\n",
       "    <tr>\n",
       "      <th>6235</th>\n",
       "      <td>0_2245</td>\n",
       "      <td>2021-06-17 03:03:12.668129</td>\n",
       "      <td>s_49705</td>\n",
       "      <td>c_1533</td>\n",
       "    </tr>\n",
       "    <tr>\n",
       "      <th>10802</th>\n",
       "      <td>0_2245</td>\n",
       "      <td>2021-06-16 05:53:01.627491</td>\n",
       "      <td>s_49323</td>\n",
       "      <td>c_7954</td>\n",
       "    </tr>\n",
       "    <tr>\n",
       "      <th>14051</th>\n",
       "      <td>0_2245</td>\n",
       "      <td>2021-11-24 17:35:59.911427</td>\n",
       "      <td>s_124474</td>\n",
       "      <td>c_5120</td>\n",
       "    </tr>\n",
       "    <tr>\n",
       "      <th>17486</th>\n",
       "      <td>0_2245</td>\n",
       "      <td>2022-02-28 18:08:49.875709</td>\n",
       "      <td>s_172304</td>\n",
       "      <td>c_4964</td>\n",
       "    </tr>\n",
       "    <tr>\n",
       "      <th>21078</th>\n",
       "      <td>0_2245</td>\n",
       "      <td>2021-03-01 00:09:29.301897</td>\n",
       "      <td>s_3</td>\n",
       "      <td>c_580</td>\n",
       "    </tr>\n",
       "  </tbody>\n",
       "</table>\n",
       "</div>"
      ],
      "text/plain": [
       "      id_prod                        date session_id client_id\n",
       "6235   0_2245  2021-06-17 03:03:12.668129    s_49705    c_1533\n",
       "10802  0_2245  2021-06-16 05:53:01.627491    s_49323    c_7954\n",
       "14051  0_2245  2021-11-24 17:35:59.911427   s_124474    c_5120\n",
       "17486  0_2245  2022-02-28 18:08:49.875709   s_172304    c_4964\n",
       "21078  0_2245  2021-03-01 00:09:29.301897        s_3     c_580"
      ]
     },
     "execution_count": 12,
     "metadata": {},
     "output_type": "execute_result"
    }
   ],
   "source": [
    "# on identifie les produits qui ont fait l'objet de transaction mais ne sont pas dans la table products\n",
    "df_trans.loc[~df_trans[\"id_prod\"].isin(df_prod[\"id_prod\"])].head()\n",
    "# id_prod '0_2245' pas dans 'products'"
   ]
  },
  {
   "cell_type": "code",
   "execution_count": 13,
   "metadata": {},
   "outputs": [
    {
     "data": {
      "text/plain": [
       "11.73"
      ]
     },
     "execution_count": 13,
     "metadata": {},
     "output_type": "execute_result"
    }
   ],
   "source": [
    "# on cherche le prix moyen d'un produit de catégorie 0 pour l'attribuer à ce pro\n",
    "mean_categ_0 = round(np.mean(df_prod[\"price\"][df_prod[\"categ\"] == 0]), 2)\n",
    "mean_categ_0"
   ]
  },
  {
   "cell_type": "code",
   "execution_count": 14,
   "metadata": {},
   "outputs": [],
   "source": [
    "# On rajoute ce produit à la table df_prod.\n",
    "zero = np.int(0)\n",
    "df_prod.loc[-1, :] = [\"0_2245\", mean_categ_0, zero]\n",
    "df_prod[\"categ\"] = df_prod[\"categ\"].astype(int)\n",
    "df_prod.reset_index(drop=True, inplace=True)"
   ]
  },
  {
   "cell_type": "markdown",
   "metadata": {},
   "source": [
    "# Table products"
   ]
  },
  {
   "cell_type": "code",
   "execution_count": 15,
   "metadata": {},
   "outputs": [
    {
     "data": {
      "text/html": [
       "<div>\n",
       "<style scoped>\n",
       "    .dataframe tbody tr th:only-of-type {\n",
       "        vertical-align: middle;\n",
       "    }\n",
       "\n",
       "    .dataframe tbody tr th {\n",
       "        vertical-align: top;\n",
       "    }\n",
       "\n",
       "    .dataframe thead th {\n",
       "        text-align: right;\n",
       "    }\n",
       "</style>\n",
       "<table border=\"1\" class=\"dataframe\">\n",
       "  <thead>\n",
       "    <tr style=\"text-align: right;\">\n",
       "      <th></th>\n",
       "      <th>id_prod</th>\n",
       "      <th>price</th>\n",
       "      <th>categ</th>\n",
       "    </tr>\n",
       "  </thead>\n",
       "  <tbody>\n",
       "    <tr>\n",
       "      <th>0</th>\n",
       "      <td>0_1421</td>\n",
       "      <td>19.99</td>\n",
       "      <td>0</td>\n",
       "    </tr>\n",
       "    <tr>\n",
       "      <th>1</th>\n",
       "      <td>0_1368</td>\n",
       "      <td>5.13</td>\n",
       "      <td>0</td>\n",
       "    </tr>\n",
       "    <tr>\n",
       "      <th>2</th>\n",
       "      <td>0_731</td>\n",
       "      <td>17.99</td>\n",
       "      <td>0</td>\n",
       "    </tr>\n",
       "    <tr>\n",
       "      <th>3</th>\n",
       "      <td>1_587</td>\n",
       "      <td>4.99</td>\n",
       "      <td>1</td>\n",
       "    </tr>\n",
       "    <tr>\n",
       "      <th>4</th>\n",
       "      <td>0_1507</td>\n",
       "      <td>3.99</td>\n",
       "      <td>0</td>\n",
       "    </tr>\n",
       "  </tbody>\n",
       "</table>\n",
       "</div>"
      ],
      "text/plain": [
       "  id_prod  price  categ\n",
       "0  0_1421  19.99      0\n",
       "1  0_1368   5.13      0\n",
       "2   0_731  17.99      0\n",
       "3   1_587   4.99      1\n",
       "4  0_1507   3.99      0"
      ]
     },
     "execution_count": 15,
     "metadata": {},
     "output_type": "execute_result"
    }
   ],
   "source": [
    "df_prod.head()"
   ]
  },
  {
   "cell_type": "code",
   "execution_count": 16,
   "metadata": {},
   "outputs": [
    {
     "data": {
      "text/plain": [
       "id_prod    False\n",
       "price      False\n",
       "categ      False\n",
       "dtype: bool"
      ]
     },
     "execution_count": 16,
     "metadata": {},
     "output_type": "execute_result"
    }
   ],
   "source": [
    "# On check des valeurs manquantes ou abbérantes\n",
    "df_prod.isnull().any()"
   ]
  },
  {
   "cell_type": "code",
   "execution_count": 17,
   "metadata": {},
   "outputs": [
    {
     "data": {
      "text/html": [
       "<div>\n",
       "<style scoped>\n",
       "    .dataframe tbody tr th:only-of-type {\n",
       "        vertical-align: middle;\n",
       "    }\n",
       "\n",
       "    .dataframe tbody tr th {\n",
       "        vertical-align: top;\n",
       "    }\n",
       "\n",
       "    .dataframe thead th {\n",
       "        text-align: right;\n",
       "    }\n",
       "</style>\n",
       "<table border=\"1\" class=\"dataframe\">\n",
       "  <thead>\n",
       "    <tr style=\"text-align: right;\">\n",
       "      <th></th>\n",
       "      <th>id_prod</th>\n",
       "      <th>price</th>\n",
       "      <th>categ</th>\n",
       "    </tr>\n",
       "  </thead>\n",
       "  <tbody>\n",
       "    <tr>\n",
       "      <th>731</th>\n",
       "      <td>T_0</td>\n",
       "      <td>-1.00</td>\n",
       "      <td>0</td>\n",
       "    </tr>\n",
       "    <tr>\n",
       "      <th>2355</th>\n",
       "      <td>0_202</td>\n",
       "      <td>0.62</td>\n",
       "      <td>0</td>\n",
       "    </tr>\n",
       "    <tr>\n",
       "      <th>2272</th>\n",
       "      <td>0_528</td>\n",
       "      <td>0.62</td>\n",
       "      <td>0</td>\n",
       "    </tr>\n",
       "    <tr>\n",
       "      <th>370</th>\n",
       "      <td>0_120</td>\n",
       "      <td>0.66</td>\n",
       "      <td>0</td>\n",
       "    </tr>\n",
       "    <tr>\n",
       "      <th>1211</th>\n",
       "      <td>0_1844</td>\n",
       "      <td>0.77</td>\n",
       "      <td>0</td>\n",
       "    </tr>\n",
       "  </tbody>\n",
       "</table>\n",
       "</div>"
      ],
      "text/plain": [
       "     id_prod  price  categ\n",
       "731      T_0  -1.00      0\n",
       "2355   0_202   0.62      0\n",
       "2272   0_528   0.62      0\n",
       "370    0_120   0.66      0\n",
       "1211  0_1844   0.77      0"
      ]
     },
     "execution_count": 17,
     "metadata": {},
     "output_type": "execute_result"
    }
   ],
   "source": [
    "# On voit qu'il y a un prix négatif\n",
    "df_prod.sort_values(by=['price'],ascending='false').head()"
   ]
  },
  {
   "cell_type": "code",
   "execution_count": 18,
   "metadata": {},
   "outputs": [],
   "source": [
    "# On supprime celle ligne, cela aurait pu être une erreur mais l'id Prod est\n",
    "# différent des autres produits, le T fait probablement référence à test\n",
    "df_prod = df_prod[df_prod['price'] > 0]\n",
    "df_prod.reset_index(inplace=True, drop=True) # On reset l'index pour prendre en compte les lignes éliminées."
   ]
  },
  {
   "cell_type": "code",
   "execution_count": 19,
   "metadata": {},
   "outputs": [],
   "source": [
    "# On check si d'autres id sont aberrants 'id_prod'.\n",
    "df_prod[\"id_prod\"] = [format_col(\n",
    "    value_id_prod, '^[0,1,2]_[0-9]+$') for value_id_prod in df_prod[\"id_prod\"]]\n",
    "# Pas de retour donc ce produit était le seul à avoir un format aberrant."
   ]
  },
  {
   "cell_type": "code",
   "execution_count": 20,
   "metadata": {},
   "outputs": [
    {
     "data": {
      "text/html": [
       "<div>\n",
       "<style scoped>\n",
       "    .dataframe tbody tr th:only-of-type {\n",
       "        vertical-align: middle;\n",
       "    }\n",
       "\n",
       "    .dataframe tbody tr th {\n",
       "        vertical-align: top;\n",
       "    }\n",
       "\n",
       "    .dataframe thead th {\n",
       "        text-align: right;\n",
       "    }\n",
       "</style>\n",
       "<table border=\"1\" class=\"dataframe\">\n",
       "  <thead>\n",
       "    <tr style=\"text-align: right;\">\n",
       "      <th></th>\n",
       "      <th>check</th>\n",
       "    </tr>\n",
       "  </thead>\n",
       "  <tbody>\n",
       "  </tbody>\n",
       "</table>\n",
       "</div>"
      ],
      "text/plain": [
       "Empty DataFrame\n",
       "Columns: [check]\n",
       "Index: []"
      ]
     },
     "execution_count": 20,
     "metadata": {},
     "output_type": "execute_result"
    }
   ],
   "source": [
    "# On check si le premier chiffre de l'id correspond à la catégorie\n",
    "check_idp=pd.DataFrame(df_prod.loc[:, \"id_prod\"].str[0].astype(\n",
    "    int) == df_prod.loc[:, \"categ\"],columns=['check'])\n",
    "check_idp=check_idp[check_idp['check'] == False]\n",
    "check_idp\n",
    "# Pas de retour donc bonne cohérence ici"
   ]
  },
  {
   "cell_type": "code",
   "execution_count": 21,
   "metadata": {},
   "outputs": [
    {
     "data": {
      "text/plain": [
       "False"
      ]
     },
     "execution_count": 21,
     "metadata": {},
     "output_type": "execute_result"
    }
   ],
   "source": [
    "# on vérifie qu'il n'y a pas de dupliqués\n",
    "df_prod.duplicated(subset=[\"id_prod\"]).any()"
   ]
  },
  {
   "cell_type": "code",
   "execution_count": 22,
   "metadata": {},
   "outputs": [
    {
     "data": {
      "text/html": [
       "<div>\n",
       "<style scoped>\n",
       "    .dataframe tbody tr th:only-of-type {\n",
       "        vertical-align: middle;\n",
       "    }\n",
       "\n",
       "    .dataframe tbody tr th {\n",
       "        vertical-align: top;\n",
       "    }\n",
       "\n",
       "    .dataframe thead th {\n",
       "        text-align: right;\n",
       "    }\n",
       "</style>\n",
       "<table border=\"1\" class=\"dataframe\">\n",
       "  <thead>\n",
       "    <tr style=\"text-align: right;\">\n",
       "      <th></th>\n",
       "      <th>id_prod</th>\n",
       "      <th>price</th>\n",
       "      <th>categ</th>\n",
       "    </tr>\n",
       "  </thead>\n",
       "  <tbody>\n",
       "    <tr>\n",
       "      <th>0</th>\n",
       "      <td>0_1421</td>\n",
       "      <td>19.99</td>\n",
       "      <td>0</td>\n",
       "    </tr>\n",
       "    <tr>\n",
       "      <th>1</th>\n",
       "      <td>0_1368</td>\n",
       "      <td>5.13</td>\n",
       "      <td>0</td>\n",
       "    </tr>\n",
       "    <tr>\n",
       "      <th>2</th>\n",
       "      <td>0_731</td>\n",
       "      <td>17.99</td>\n",
       "      <td>0</td>\n",
       "    </tr>\n",
       "    <tr>\n",
       "      <th>3</th>\n",
       "      <td>1_587</td>\n",
       "      <td>4.99</td>\n",
       "      <td>1</td>\n",
       "    </tr>\n",
       "    <tr>\n",
       "      <th>4</th>\n",
       "      <td>0_1507</td>\n",
       "      <td>3.99</td>\n",
       "      <td>0</td>\n",
       "    </tr>\n",
       "  </tbody>\n",
       "</table>\n",
       "</div>"
      ],
      "text/plain": [
       "  id_prod  price  categ\n",
       "0  0_1421  19.99      0\n",
       "1  0_1368   5.13      0\n",
       "2   0_731  17.99      0\n",
       "3   1_587   4.99      1\n",
       "4  0_1507   3.99      0"
      ]
     },
     "execution_count": 22,
     "metadata": {},
     "output_type": "execute_result"
    }
   ],
   "source": [
    "df_prod.head()"
   ]
  },
  {
   "cell_type": "markdown",
   "metadata": {},
   "source": [
    "# Table customers"
   ]
  },
  {
   "cell_type": "code",
   "execution_count": 23,
   "metadata": {},
   "outputs": [
    {
     "data": {
      "text/html": [
       "<div>\n",
       "<style scoped>\n",
       "    .dataframe tbody tr th:only-of-type {\n",
       "        vertical-align: middle;\n",
       "    }\n",
       "\n",
       "    .dataframe tbody tr th {\n",
       "        vertical-align: top;\n",
       "    }\n",
       "\n",
       "    .dataframe thead th {\n",
       "        text-align: right;\n",
       "    }\n",
       "</style>\n",
       "<table border=\"1\" class=\"dataframe\">\n",
       "  <thead>\n",
       "    <tr style=\"text-align: right;\">\n",
       "      <th></th>\n",
       "      <th>client_id</th>\n",
       "      <th>sex</th>\n",
       "      <th>birth</th>\n",
       "    </tr>\n",
       "  </thead>\n",
       "  <tbody>\n",
       "    <tr>\n",
       "      <th>0</th>\n",
       "      <td>c_4410</td>\n",
       "      <td>f</td>\n",
       "      <td>1967</td>\n",
       "    </tr>\n",
       "    <tr>\n",
       "      <th>1</th>\n",
       "      <td>c_7839</td>\n",
       "      <td>f</td>\n",
       "      <td>1975</td>\n",
       "    </tr>\n",
       "    <tr>\n",
       "      <th>2</th>\n",
       "      <td>c_1699</td>\n",
       "      <td>f</td>\n",
       "      <td>1984</td>\n",
       "    </tr>\n",
       "    <tr>\n",
       "      <th>3</th>\n",
       "      <td>c_5961</td>\n",
       "      <td>f</td>\n",
       "      <td>1962</td>\n",
       "    </tr>\n",
       "    <tr>\n",
       "      <th>4</th>\n",
       "      <td>c_5320</td>\n",
       "      <td>m</td>\n",
       "      <td>1943</td>\n",
       "    </tr>\n",
       "  </tbody>\n",
       "</table>\n",
       "</div>"
      ],
      "text/plain": [
       "  client_id sex  birth\n",
       "0    c_4410   f   1967\n",
       "1    c_7839   f   1975\n",
       "2    c_1699   f   1984\n",
       "3    c_5961   f   1962\n",
       "4    c_5320   m   1943"
      ]
     },
     "execution_count": 23,
     "metadata": {},
     "output_type": "execute_result"
    }
   ],
   "source": [
    "df_csts.head()"
   ]
  },
  {
   "cell_type": "code",
   "execution_count": 24,
   "metadata": {},
   "outputs": [
    {
     "name": "stdout",
     "output_type": "stream",
     "text": [
      "ct_0 doest not match format.\n",
      "ct_1 doest not match format.\n"
     ]
    }
   ],
   "source": [
    "df_csts[\"client_id\"] = [format_col(\n",
    "    value_client_id, \"^c_[0-9]{0,5}$\") for value_client_id in df_csts[\"client_id\"]]"
   ]
  },
  {
   "cell_type": "code",
   "execution_count": 25,
   "metadata": {},
   "outputs": [
    {
     "data": {
      "text/html": [
       "<div>\n",
       "<style scoped>\n",
       "    .dataframe tbody tr th:only-of-type {\n",
       "        vertical-align: middle;\n",
       "    }\n",
       "\n",
       "    .dataframe tbody tr th {\n",
       "        vertical-align: top;\n",
       "    }\n",
       "\n",
       "    .dataframe thead th {\n",
       "        text-align: right;\n",
       "    }\n",
       "</style>\n",
       "<table border=\"1\" class=\"dataframe\">\n",
       "  <thead>\n",
       "    <tr style=\"text-align: right;\">\n",
       "      <th></th>\n",
       "      <th>id_prod</th>\n",
       "      <th>date</th>\n",
       "      <th>session_id</th>\n",
       "      <th>client_id</th>\n",
       "    </tr>\n",
       "  </thead>\n",
       "  <tbody>\n",
       "    <tr>\n",
       "      <th>1431</th>\n",
       "      <td>T_0</td>\n",
       "      <td>test_2021-03-01 02:30:02.237420</td>\n",
       "      <td>s_0</td>\n",
       "      <td>ct_1</td>\n",
       "    </tr>\n",
       "    <tr>\n",
       "      <th>2365</th>\n",
       "      <td>T_0</td>\n",
       "      <td>test_2021-03-01 02:30:02.237446</td>\n",
       "      <td>s_0</td>\n",
       "      <td>ct_1</td>\n",
       "    </tr>\n",
       "    <tr>\n",
       "      <th>2895</th>\n",
       "      <td>T_0</td>\n",
       "      <td>test_2021-03-01 02:30:02.237414</td>\n",
       "      <td>s_0</td>\n",
       "      <td>ct_1</td>\n",
       "    </tr>\n",
       "    <tr>\n",
       "      <th>5955</th>\n",
       "      <td>T_0</td>\n",
       "      <td>test_2021-03-01 02:30:02.237441</td>\n",
       "      <td>s_0</td>\n",
       "      <td>ct_0</td>\n",
       "    </tr>\n",
       "    <tr>\n",
       "      <th>7283</th>\n",
       "      <td>T_0</td>\n",
       "      <td>test_2021-03-01 02:30:02.237434</td>\n",
       "      <td>s_0</td>\n",
       "      <td>ct_1</td>\n",
       "    </tr>\n",
       "  </tbody>\n",
       "</table>\n",
       "</div>"
      ],
      "text/plain": [
       "     id_prod                             date session_id client_id\n",
       "1431     T_0  test_2021-03-01 02:30:02.237420        s_0      ct_1\n",
       "2365     T_0  test_2021-03-01 02:30:02.237446        s_0      ct_1\n",
       "2895     T_0  test_2021-03-01 02:30:02.237414        s_0      ct_1\n",
       "5955     T_0  test_2021-03-01 02:30:02.237441        s_0      ct_0\n",
       "7283     T_0  test_2021-03-01 02:30:02.237434        s_0      ct_1"
      ]
     },
     "execution_count": 25,
     "metadata": {},
     "output_type": "execute_result"
    }
   ],
   "source": [
    "# on regarde dans la table transactions si ces ID sont liés à notre produit T_0...\n",
    "df_test=df_trans[(df_trans['id_prod']=='T_0')]\n",
    "df_test.head()"
   ]
  },
  {
   "cell_type": "code",
   "execution_count": 26,
   "metadata": {},
   "outputs": [],
   "source": [
    "# on supprime ces clients qui sont liés au produit id T_0\n",
    "df_csts.dropna(inplace=True, how='any')"
   ]
  },
  {
   "cell_type": "code",
   "execution_count": 27,
   "metadata": {},
   "outputs": [],
   "source": [
    "# On enlève les deux premiers caractères c_ qui se répètent et nuisent à une bonne visibilité\n",
    "df_csts['client_id'] = df_csts['client_id'].str[2:]"
   ]
  },
  {
   "cell_type": "code",
   "execution_count": 28,
   "metadata": {},
   "outputs": [
    {
     "data": {
      "text/plain": [
       "client_id    False\n",
       "sex          False\n",
       "birth        False\n",
       "dtype: bool"
      ]
     },
     "execution_count": 28,
     "metadata": {},
     "output_type": "execute_result"
    }
   ],
   "source": [
    "# On check s'il y a des valeurs manquantes\n",
    "df_csts.isnull().any()"
   ]
  },
  {
   "cell_type": "code",
   "execution_count": 29,
   "metadata": {},
   "outputs": [
    {
     "data": {
      "text/plain": [
       "{'whiskers': [<matplotlib.lines.Line2D at 0x1c10006860>,\n",
       "  <matplotlib.lines.Line2D at 0x1c10006cf8>],\n",
       " 'caps': [<matplotlib.lines.Line2D at 0x1c1001c160>,\n",
       "  <matplotlib.lines.Line2D at 0x1c1001c588>],\n",
       " 'boxes': [<matplotlib.lines.Line2D at 0x1c10006710>],\n",
       " 'medians': [<matplotlib.lines.Line2D at 0x1c1001c9b0>],\n",
       " 'fliers': [<matplotlib.lines.Line2D at 0x1c1001cdd8>],\n",
       " 'means': []}"
      ]
     },
     "execution_count": 29,
     "metadata": {},
     "output_type": "execute_result"
    },
    {
     "data": {
      "image/png": "[encoded data removed]",
      "text/plain": [
       "<Figure size 432x288 with 1 Axes>"
      ]
     },
     "metadata": {},
     "output_type": "display_data"
    }
   ],
   "source": [
    "# On check s'il y a des valeurs aberrantes\n",
    "plt.boxplot(df_csts.birth)"
   ]
  },
  {
   "cell_type": "code",
   "execution_count": 30,
   "metadata": {},
   "outputs": [
    {
     "data": {
      "text/plain": [
       "array(['f', 'm'], dtype=object)"
      ]
     },
     "execution_count": 30,
     "metadata": {},
     "output_type": "execute_result"
    }
   ],
   "source": [
    "# On check s'il y a des valeurs aberrantes\n",
    "df_csts.sex.unique()"
   ]
  },
  {
   "cell_type": "code",
   "execution_count": 31,
   "metadata": {},
   "outputs": [
    {
     "data": {
      "text/plain": [
       "False"
      ]
     },
     "execution_count": 31,
     "metadata": {},
     "output_type": "execute_result"
    }
   ],
   "source": [
    "# on vérifie qu'il n'y a pas de dupliqués\n",
    "df_csts.duplicated(subset=[\"client_id\"]).any()"
   ]
  },
  {
   "cell_type": "code",
   "execution_count": 32,
   "metadata": {},
   "outputs": [],
   "source": [
    "# on ajoute la colonne age\n",
    "df_csts['age'] = -df_csts['birth']+2022"
   ]
  },
  {
   "cell_type": "code",
   "execution_count": 33,
   "metadata": {},
   "outputs": [
    {
     "data": {
      "text/html": [
       "<div>\n",
       "<style scoped>\n",
       "    .dataframe tbody tr th:only-of-type {\n",
       "        vertical-align: middle;\n",
       "    }\n",
       "\n",
       "    .dataframe tbody tr th {\n",
       "        vertical-align: top;\n",
       "    }\n",
       "\n",
       "    .dataframe thead th {\n",
       "        text-align: right;\n",
       "    }\n",
       "</style>\n",
       "<table border=\"1\" class=\"dataframe\">\n",
       "  <thead>\n",
       "    <tr style=\"text-align: right;\">\n",
       "      <th></th>\n",
       "      <th>client_id</th>\n",
       "      <th>sex</th>\n",
       "      <th>birth</th>\n",
       "      <th>age</th>\n",
       "    </tr>\n",
       "  </thead>\n",
       "  <tbody>\n",
       "    <tr>\n",
       "      <th>0</th>\n",
       "      <td>4410</td>\n",
       "      <td>f</td>\n",
       "      <td>1967</td>\n",
       "      <td>55</td>\n",
       "    </tr>\n",
       "    <tr>\n",
       "      <th>1</th>\n",
       "      <td>7839</td>\n",
       "      <td>f</td>\n",
       "      <td>1975</td>\n",
       "      <td>47</td>\n",
       "    </tr>\n",
       "    <tr>\n",
       "      <th>2</th>\n",
       "      <td>1699</td>\n",
       "      <td>f</td>\n",
       "      <td>1984</td>\n",
       "      <td>38</td>\n",
       "    </tr>\n",
       "    <tr>\n",
       "      <th>3</th>\n",
       "      <td>5961</td>\n",
       "      <td>f</td>\n",
       "      <td>1962</td>\n",
       "      <td>60</td>\n",
       "    </tr>\n",
       "    <tr>\n",
       "      <th>4</th>\n",
       "      <td>5320</td>\n",
       "      <td>m</td>\n",
       "      <td>1943</td>\n",
       "      <td>79</td>\n",
       "    </tr>\n",
       "  </tbody>\n",
       "</table>\n",
       "</div>"
      ],
      "text/plain": [
       "  client_id sex  birth  age\n",
       "0      4410   f   1967   55\n",
       "1      7839   f   1975   47\n",
       "2      1699   f   1984   38\n",
       "3      5961   f   1962   60\n",
       "4      5320   m   1943   79"
      ]
     },
     "execution_count": 33,
     "metadata": {},
     "output_type": "execute_result"
    }
   ],
   "source": [
    "# Csts est clean\n",
    "df_csts.head()"
   ]
  },
  {
   "cell_type": "markdown",
   "metadata": {},
   "source": [
    "# Table transactions"
   ]
  },
  {
   "cell_type": "code",
   "execution_count": 34,
   "metadata": {},
   "outputs": [
    {
     "data": {
      "text/html": [
       "<div>\n",
       "<style scoped>\n",
       "    .dataframe tbody tr th:only-of-type {\n",
       "        vertical-align: middle;\n",
       "    }\n",
       "\n",
       "    .dataframe tbody tr th {\n",
       "        vertical-align: top;\n",
       "    }\n",
       "\n",
       "    .dataframe thead th {\n",
       "        text-align: right;\n",
       "    }\n",
       "</style>\n",
       "<table border=\"1\" class=\"dataframe\">\n",
       "  <thead>\n",
       "    <tr style=\"text-align: right;\">\n",
       "      <th></th>\n",
       "      <th>id_prod</th>\n",
       "      <th>date</th>\n",
       "      <th>session_id</th>\n",
       "      <th>client_id</th>\n",
       "    </tr>\n",
       "  </thead>\n",
       "  <tbody>\n",
       "    <tr>\n",
       "      <th>0</th>\n",
       "      <td>0_1483</td>\n",
       "      <td>2021-04-10 18:37:28.723910</td>\n",
       "      <td>s_18746</td>\n",
       "      <td>c_4450</td>\n",
       "    </tr>\n",
       "    <tr>\n",
       "      <th>1</th>\n",
       "      <td>2_226</td>\n",
       "      <td>2022-02-03 01:55:53.276402</td>\n",
       "      <td>s_159142</td>\n",
       "      <td>c_277</td>\n",
       "    </tr>\n",
       "    <tr>\n",
       "      <th>2</th>\n",
       "      <td>1_374</td>\n",
       "      <td>2021-09-23 15:13:46.938559</td>\n",
       "      <td>s_94290</td>\n",
       "      <td>c_4270</td>\n",
       "    </tr>\n",
       "    <tr>\n",
       "      <th>3</th>\n",
       "      <td>0_2186</td>\n",
       "      <td>2021-10-17 03:27:18.783634</td>\n",
       "      <td>s_105936</td>\n",
       "      <td>c_4597</td>\n",
       "    </tr>\n",
       "    <tr>\n",
       "      <th>4</th>\n",
       "      <td>0_1351</td>\n",
       "      <td>2021-07-17 20:34:25.800563</td>\n",
       "      <td>s_63642</td>\n",
       "      <td>c_1242</td>\n",
       "    </tr>\n",
       "  </tbody>\n",
       "</table>\n",
       "</div>"
      ],
      "text/plain": [
       "  id_prod                        date session_id client_id\n",
       "0  0_1483  2021-04-10 18:37:28.723910    s_18746    c_4450\n",
       "1   2_226  2022-02-03 01:55:53.276402   s_159142     c_277\n",
       "2   1_374  2021-09-23 15:13:46.938559    s_94290    c_4270\n",
       "3  0_2186  2021-10-17 03:27:18.783634   s_105936    c_4597\n",
       "4  0_1351  2021-07-17 20:34:25.800563    s_63642    c_1242"
      ]
     },
     "execution_count": 34,
     "metadata": {},
     "output_type": "execute_result"
    }
   ],
   "source": [
    "df_trans.head()"
   ]
  },
  {
   "cell_type": "code",
   "execution_count": 35,
   "metadata": {},
   "outputs": [
    {
     "data": {
      "text/html": [
       "<div>\n",
       "<style scoped>\n",
       "    .dataframe tbody tr th:only-of-type {\n",
       "        vertical-align: middle;\n",
       "    }\n",
       "\n",
       "    .dataframe tbody tr th {\n",
       "        vertical-align: top;\n",
       "    }\n",
       "\n",
       "    .dataframe thead th {\n",
       "        text-align: right;\n",
       "    }\n",
       "</style>\n",
       "<table border=\"1\" class=\"dataframe\">\n",
       "  <thead>\n",
       "    <tr style=\"text-align: right;\">\n",
       "      <th></th>\n",
       "      <th>id_prod</th>\n",
       "      <th>date</th>\n",
       "      <th>session_id</th>\n",
       "      <th>client_id</th>\n",
       "    </tr>\n",
       "  </thead>\n",
       "  <tbody>\n",
       "    <tr>\n",
       "      <th>0</th>\n",
       "      <td>0_1483</td>\n",
       "      <td>2021-04-10 18:37:28.723910</td>\n",
       "      <td>s_18746</td>\n",
       "      <td>c_4450</td>\n",
       "    </tr>\n",
       "    <tr>\n",
       "      <th>1</th>\n",
       "      <td>2_226</td>\n",
       "      <td>2022-02-03 01:55:53.276402</td>\n",
       "      <td>s_159142</td>\n",
       "      <td>c_277</td>\n",
       "    </tr>\n",
       "    <tr>\n",
       "      <th>2</th>\n",
       "      <td>1_374</td>\n",
       "      <td>2021-09-23 15:13:46.938559</td>\n",
       "      <td>s_94290</td>\n",
       "      <td>c_4270</td>\n",
       "    </tr>\n",
       "    <tr>\n",
       "      <th>3</th>\n",
       "      <td>0_2186</td>\n",
       "      <td>2021-10-17 03:27:18.783634</td>\n",
       "      <td>s_105936</td>\n",
       "      <td>c_4597</td>\n",
       "    </tr>\n",
       "    <tr>\n",
       "      <th>4</th>\n",
       "      <td>0_1351</td>\n",
       "      <td>2021-07-17 20:34:25.800563</td>\n",
       "      <td>s_63642</td>\n",
       "      <td>c_1242</td>\n",
       "    </tr>\n",
       "  </tbody>\n",
       "</table>\n",
       "</div>"
      ],
      "text/plain": [
       "  id_prod                        date session_id client_id\n",
       "0  0_1483  2021-04-10 18:37:28.723910    s_18746    c_4450\n",
       "1   2_226  2022-02-03 01:55:53.276402   s_159142     c_277\n",
       "2   1_374  2021-09-23 15:13:46.938559    s_94290    c_4270\n",
       "3  0_2186  2021-10-17 03:27:18.783634   s_105936    c_4597\n",
       "4  0_1351  2021-07-17 20:34:25.800563    s_63642    c_1242"
      ]
     },
     "execution_count": 35,
     "metadata": {},
     "output_type": "execute_result"
    }
   ],
   "source": [
    "# On enlève donc toutes les lignes où il y a T_0\n",
    "df_trans=df_trans[(df_trans['id_prod']!='T_0')]\n",
    "df_trans.head()"
   ]
  },
  {
   "cell_type": "code",
   "execution_count": 36,
   "metadata": {},
   "outputs": [],
   "source": [
    "# On enlève les deux premiers caractères c_ qui se répètent et nuisent à une bonne visibilité\n",
    "df_trans['session_id'] = df_trans['session_id'].str[2:]\n",
    "df_trans['client_id'] = df_trans['client_id'].str[2:]"
   ]
  },
  {
   "cell_type": "code",
   "execution_count": 37,
   "metadata": {},
   "outputs": [
    {
     "data": {
      "text/html": [
       "<div>\n",
       "<style scoped>\n",
       "    .dataframe tbody tr th:only-of-type {\n",
       "        vertical-align: middle;\n",
       "    }\n",
       "\n",
       "    .dataframe tbody tr th {\n",
       "        vertical-align: top;\n",
       "    }\n",
       "\n",
       "    .dataframe thead th {\n",
       "        text-align: right;\n",
       "    }\n",
       "</style>\n",
       "<table border=\"1\" class=\"dataframe\">\n",
       "  <thead>\n",
       "    <tr style=\"text-align: right;\">\n",
       "      <th></th>\n",
       "      <th>id_prod</th>\n",
       "      <th>date</th>\n",
       "      <th>session_id</th>\n",
       "      <th>client_id</th>\n",
       "      <th>hour</th>\n",
       "    </tr>\n",
       "  </thead>\n",
       "  <tbody>\n",
       "    <tr>\n",
       "      <th>0</th>\n",
       "      <td>0_1483</td>\n",
       "      <td>2021-04-10</td>\n",
       "      <td>18746</td>\n",
       "      <td>4450</td>\n",
       "      <td>18:37:28.723910</td>\n",
       "    </tr>\n",
       "    <tr>\n",
       "      <th>1</th>\n",
       "      <td>2_226</td>\n",
       "      <td>2022-02-03</td>\n",
       "      <td>159142</td>\n",
       "      <td>277</td>\n",
       "      <td>01:55:53.276402</td>\n",
       "    </tr>\n",
       "    <tr>\n",
       "      <th>2</th>\n",
       "      <td>1_374</td>\n",
       "      <td>2021-09-23</td>\n",
       "      <td>94290</td>\n",
       "      <td>4270</td>\n",
       "      <td>15:13:46.938559</td>\n",
       "    </tr>\n",
       "    <tr>\n",
       "      <th>3</th>\n",
       "      <td>0_2186</td>\n",
       "      <td>2021-10-17</td>\n",
       "      <td>105936</td>\n",
       "      <td>4597</td>\n",
       "      <td>03:27:18.783634</td>\n",
       "    </tr>\n",
       "    <tr>\n",
       "      <th>4</th>\n",
       "      <td>0_1351</td>\n",
       "      <td>2021-07-17</td>\n",
       "      <td>63642</td>\n",
       "      <td>1242</td>\n",
       "      <td>20:34:25.800563</td>\n",
       "    </tr>\n",
       "  </tbody>\n",
       "</table>\n",
       "</div>"
      ],
      "text/plain": [
       "  id_prod        date session_id client_id             hour\n",
       "0  0_1483  2021-04-10      18746      4450  18:37:28.723910\n",
       "1   2_226  2022-02-03     159142       277  01:55:53.276402\n",
       "2   1_374  2021-09-23      94290      4270  15:13:46.938559\n",
       "3  0_2186  2021-10-17     105936      4597  03:27:18.783634\n",
       "4  0_1351  2021-07-17      63642      1242  20:34:25.800563"
      ]
     },
     "execution_count": 37,
     "metadata": {},
     "output_type": "execute_result"
    }
   ],
   "source": [
    "# On sépare la colonne date entre la date (jour) et l'heure de la commande\n",
    "df_trans[['date','hour']] = df_trans['date'].str.split(' ',expand=True)\n",
    "df_trans.head()"
   ]
  },
  {
   "cell_type": "code",
   "execution_count": 38,
   "metadata": {},
   "outputs": [],
   "source": [
    "# On enlève le millionème de seconde\n",
    "df_trans['hour'] = df_trans['hour'].str[:-7]"
   ]
  },
  {
   "cell_type": "code",
   "execution_count": 39,
   "metadata": {},
   "outputs": [],
   "source": [
    "# On extrait l'année pour créer des tendances\n",
    "df_trans['year'] = df_trans['date'].str[:-6]"
   ]
  },
  {
   "cell_type": "code",
   "execution_count": 40,
   "metadata": {},
   "outputs": [],
   "source": [
    "# On extrait l'année pour créer des tendances\n",
    "df_trans['month'] = df_trans['date'].str[5:-3]"
   ]
  },
  {
   "cell_type": "code",
   "execution_count": 41,
   "metadata": {},
   "outputs": [
    {
     "data": {
      "text/plain": [
       "id_prod       False\n",
       "date          False\n",
       "session_id    False\n",
       "client_id     False\n",
       "hour          False\n",
       "year          False\n",
       "month         False\n",
       "dtype: bool"
      ]
     },
     "execution_count": 41,
     "metadata": {},
     "output_type": "execute_result"
    }
   ],
   "source": [
    "# On checke des valeurs manquantes \n",
    "df_trans.isnull().any()"
   ]
  },
  {
   "cell_type": "code",
   "execution_count": 42,
   "metadata": {},
   "outputs": [
    {
     "data": {
      "text/html": [
       "<div>\n",
       "<style scoped>\n",
       "    .dataframe tbody tr th:only-of-type {\n",
       "        vertical-align: middle;\n",
       "    }\n",
       "\n",
       "    .dataframe tbody tr th {\n",
       "        vertical-align: top;\n",
       "    }\n",
       "\n",
       "    .dataframe thead th {\n",
       "        text-align: right;\n",
       "    }\n",
       "</style>\n",
       "<table border=\"1\" class=\"dataframe\">\n",
       "  <thead>\n",
       "    <tr style=\"text-align: right;\">\n",
       "      <th></th>\n",
       "      <th>id_prod</th>\n",
       "      <th>date</th>\n",
       "      <th>session_id</th>\n",
       "      <th>client_id</th>\n",
       "      <th>hour</th>\n",
       "      <th>year</th>\n",
       "      <th>month</th>\n",
       "    </tr>\n",
       "  </thead>\n",
       "  <tbody>\n",
       "    <tr>\n",
       "      <th>0</th>\n",
       "      <td>0_1483</td>\n",
       "      <td>2021-04-10</td>\n",
       "      <td>18746</td>\n",
       "      <td>4450</td>\n",
       "      <td>18:37:28</td>\n",
       "      <td>2021</td>\n",
       "      <td>04</td>\n",
       "    </tr>\n",
       "    <tr>\n",
       "      <th>1</th>\n",
       "      <td>2_226</td>\n",
       "      <td>2022-02-03</td>\n",
       "      <td>159142</td>\n",
       "      <td>277</td>\n",
       "      <td>01:55:53</td>\n",
       "      <td>2022</td>\n",
       "      <td>02</td>\n",
       "    </tr>\n",
       "    <tr>\n",
       "      <th>2</th>\n",
       "      <td>1_374</td>\n",
       "      <td>2021-09-23</td>\n",
       "      <td>94290</td>\n",
       "      <td>4270</td>\n",
       "      <td>15:13:46</td>\n",
       "      <td>2021</td>\n",
       "      <td>09</td>\n",
       "    </tr>\n",
       "    <tr>\n",
       "      <th>3</th>\n",
       "      <td>0_2186</td>\n",
       "      <td>2021-10-17</td>\n",
       "      <td>105936</td>\n",
       "      <td>4597</td>\n",
       "      <td>03:27:18</td>\n",
       "      <td>2021</td>\n",
       "      <td>10</td>\n",
       "    </tr>\n",
       "    <tr>\n",
       "      <th>4</th>\n",
       "      <td>0_1351</td>\n",
       "      <td>2021-07-17</td>\n",
       "      <td>63642</td>\n",
       "      <td>1242</td>\n",
       "      <td>20:34:25</td>\n",
       "      <td>2021</td>\n",
       "      <td>07</td>\n",
       "    </tr>\n",
       "  </tbody>\n",
       "</table>\n",
       "</div>"
      ],
      "text/plain": [
       "  id_prod        date session_id client_id      hour  year month\n",
       "0  0_1483  2021-04-10      18746      4450  18:37:28  2021    04\n",
       "1   2_226  2022-02-03     159142       277  01:55:53  2022    02\n",
       "2   1_374  2021-09-23      94290      4270  15:13:46  2021    09\n",
       "3  0_2186  2021-10-17     105936      4597  03:27:18  2021    10\n",
       "4  0_1351  2021-07-17      63642      1242  20:34:25  2021    07"
      ]
     },
     "execution_count": 42,
     "metadata": {},
     "output_type": "execute_result"
    }
   ],
   "source": [
    "df_trans.head()"
   ]
  },
  {
   "cell_type": "markdown",
   "metadata": {},
   "source": [
    "# Mission N°2"
   ]
  },
  {
   "cell_type": "markdown",
   "metadata": {},
   "source": [
    "# Analyses de la démographie"
   ]
  },
  {
   "cell_type": "code",
   "execution_count": 43,
   "metadata": {},
   "outputs": [
    {
     "data": {
      "text/html": [
       "<div>\n",
       "<style scoped>\n",
       "    .dataframe tbody tr th:only-of-type {\n",
       "        vertical-align: middle;\n",
       "    }\n",
       "\n",
       "    .dataframe tbody tr th {\n",
       "        vertical-align: top;\n",
       "    }\n",
       "\n",
       "    .dataframe thead th {\n",
       "        text-align: right;\n",
       "    }\n",
       "</style>\n",
       "<table border=\"1\" class=\"dataframe\">\n",
       "  <thead>\n",
       "    <tr style=\"text-align: right;\">\n",
       "      <th></th>\n",
       "      <th>age</th>\n",
       "      <th>count</th>\n",
       "    </tr>\n",
       "  </thead>\n",
       "  <tbody>\n",
       "    <tr>\n",
       "      <th>0</th>\n",
       "      <td>18</td>\n",
       "      <td>440</td>\n",
       "    </tr>\n",
       "    <tr>\n",
       "      <th>1</th>\n",
       "      <td>19</td>\n",
       "      <td>146</td>\n",
       "    </tr>\n",
       "    <tr>\n",
       "      <th>2</th>\n",
       "      <td>20</td>\n",
       "      <td>146</td>\n",
       "    </tr>\n",
       "    <tr>\n",
       "      <th>3</th>\n",
       "      <td>21</td>\n",
       "      <td>127</td>\n",
       "    </tr>\n",
       "    <tr>\n",
       "      <th>4</th>\n",
       "      <td>22</td>\n",
       "      <td>136</td>\n",
       "    </tr>\n",
       "  </tbody>\n",
       "</table>\n",
       "</div>"
      ],
      "text/plain": [
       "   age  count\n",
       "0   18    440\n",
       "1   19    146\n",
       "2   20    146\n",
       "3   21    127\n",
       "4   22    136"
      ]
     },
     "execution_count": 43,
     "metadata": {},
     "output_type": "execute_result"
    }
   ],
   "source": [
    "# Age des clients\n",
    "df_age=df_csts.groupby(['age']).count().reset_index()\n",
    "df_age=df_age.drop(columns=['birth','sex'])\n",
    "df_age.rename(columns={'client_id':'count'}, inplace=True)\n",
    "df_age.head()"
   ]
  },
  {
   "cell_type": "code",
   "execution_count": 44,
   "metadata": {},
   "outputs": [
    {
     "data": {
      "image/png": "[encoded data removed]",
      "text/plain": [
       "<Figure size 1440x576 with 1 Axes>"
      ]
     },
     "metadata": {},
     "output_type": "display_data"
    }
   ],
   "source": [
    "Age=df_age.plot(x='age', y='count',kind='bar',figsize=(20,8), legend=False, color='blue')"
   ]
  },
  {
   "cell_type": "code",
   "execution_count": 45,
   "metadata": {},
   "outputs": [
    {
     "data": {
      "text/html": [
       "<div>\n",
       "<style scoped>\n",
       "    .dataframe tbody tr th:only-of-type {\n",
       "        vertical-align: middle;\n",
       "    }\n",
       "\n",
       "    .dataframe tbody tr th {\n",
       "        vertical-align: top;\n",
       "    }\n",
       "\n",
       "    .dataframe thead th {\n",
       "        text-align: right;\n",
       "    }\n",
       "</style>\n",
       "<table border=\"1\" class=\"dataframe\">\n",
       "  <thead>\n",
       "    <tr style=\"text-align: right;\">\n",
       "      <th></th>\n",
       "      <th>sex</th>\n",
       "      <th>count</th>\n",
       "    </tr>\n",
       "  </thead>\n",
       "  <tbody>\n",
       "    <tr>\n",
       "      <th>0</th>\n",
       "      <td>f</td>\n",
       "      <td>4490</td>\n",
       "    </tr>\n",
       "    <tr>\n",
       "      <th>1</th>\n",
       "      <td>m</td>\n",
       "      <td>4131</td>\n",
       "    </tr>\n",
       "  </tbody>\n",
       "</table>\n",
       "</div>"
      ],
      "text/plain": [
       "  sex  count\n",
       "0   f   4490\n",
       "1   m   4131"
      ]
     },
     "execution_count": 45,
     "metadata": {},
     "output_type": "execute_result"
    }
   ],
   "source": [
    "df_sex=df_csts.groupby(['sex']).count().reset_index()\n",
    "df_sex=df_sex.drop(columns=['birth','age'])\n",
    "df_sex.rename(columns={'client_id':'count'}, inplace=True)\n",
    "df_sex"
   ]
  },
  {
   "cell_type": "markdown",
   "metadata": {},
   "source": [
    "# Revenus totaux par catégorie de produits sur l'ensemble de la période"
   ]
  },
  {
   "cell_type": "code",
   "execution_count": 46,
   "metadata": {},
   "outputs": [
    {
     "data": {
      "text/html": [
       "<div>\n",
       "<style scoped>\n",
       "    .dataframe tbody tr th:only-of-type {\n",
       "        vertical-align: middle;\n",
       "    }\n",
       "\n",
       "    .dataframe tbody tr th {\n",
       "        vertical-align: top;\n",
       "    }\n",
       "\n",
       "    .dataframe thead th {\n",
       "        text-align: right;\n",
       "    }\n",
       "</style>\n",
       "<table border=\"1\" class=\"dataframe\">\n",
       "  <thead>\n",
       "    <tr style=\"text-align: right;\">\n",
       "      <th></th>\n",
       "      <th>id_prod</th>\n",
       "      <th>price</th>\n",
       "      <th>categ</th>\n",
       "      <th>date</th>\n",
       "      <th>session_id</th>\n",
       "      <th>client_id</th>\n",
       "      <th>hour</th>\n",
       "      <th>year</th>\n",
       "      <th>month</th>\n",
       "    </tr>\n",
       "  </thead>\n",
       "  <tbody>\n",
       "    <tr>\n",
       "      <th>0</th>\n",
       "      <td>0_1421</td>\n",
       "      <td>19.99</td>\n",
       "      <td>0</td>\n",
       "      <td>2021-05-12</td>\n",
       "      <td>33709</td>\n",
       "      <td>7954</td>\n",
       "      <td>23:26:29</td>\n",
       "      <td>2021</td>\n",
       "      <td>05</td>\n",
       "    </tr>\n",
       "    <tr>\n",
       "      <th>1</th>\n",
       "      <td>0_1421</td>\n",
       "      <td>19.99</td>\n",
       "      <td>0</td>\n",
       "      <td>2022-01-25</td>\n",
       "      <td>154957</td>\n",
       "      <td>254</td>\n",
       "      <td>11:27:39</td>\n",
       "      <td>2022</td>\n",
       "      <td>01</td>\n",
       "    </tr>\n",
       "    <tr>\n",
       "      <th>2</th>\n",
       "      <td>0_1421</td>\n",
       "      <td>19.99</td>\n",
       "      <td>0</td>\n",
       "      <td>2022-01-02</td>\n",
       "      <td>144068</td>\n",
       "      <td>5770</td>\n",
       "      <td>22:29:33</td>\n",
       "      <td>2022</td>\n",
       "      <td>01</td>\n",
       "    </tr>\n",
       "    <tr>\n",
       "      <th>3</th>\n",
       "      <td>0_1421</td>\n",
       "      <td>19.99</td>\n",
       "      <td>0</td>\n",
       "      <td>2021-03-05</td>\n",
       "      <td>2187</td>\n",
       "      <td>1455</td>\n",
       "      <td>17:10:40</td>\n",
       "      <td>2021</td>\n",
       "      <td>03</td>\n",
       "    </tr>\n",
       "    <tr>\n",
       "      <th>4</th>\n",
       "      <td>0_1421</td>\n",
       "      <td>19.99</td>\n",
       "      <td>0</td>\n",
       "      <td>2021-03-29</td>\n",
       "      <td>13112</td>\n",
       "      <td>2768</td>\n",
       "      <td>13:55:04</td>\n",
       "      <td>2021</td>\n",
       "      <td>03</td>\n",
       "    </tr>\n",
       "  </tbody>\n",
       "</table>\n",
       "</div>"
      ],
      "text/plain": [
       "  id_prod  price  categ        date session_id client_id      hour  year month\n",
       "0  0_1421  19.99      0  2021-05-12      33709      7954  23:26:29  2021    05\n",
       "1  0_1421  19.99      0  2022-01-25     154957       254  11:27:39  2022    01\n",
       "2  0_1421  19.99      0  2022-01-02     144068      5770  22:29:33  2022    01\n",
       "3  0_1421  19.99      0  2021-03-05       2187      1455  17:10:40  2021    03\n",
       "4  0_1421  19.99      0  2021-03-29      13112      2768  13:55:04  2021    03"
      ]
     },
     "execution_count": 46,
     "metadata": {},
     "output_type": "execute_result"
    }
   ],
   "source": [
    "# On crée une table des revenues via merge les tables de produits et de transaction afin d'obtenir les ventes\n",
    "df_revenues=pd.merge(df_prod,df_trans,on='id_prod')\n",
    "df_revenues.head()"
   ]
  },
  {
   "cell_type": "code",
   "execution_count": 47,
   "metadata": {},
   "outputs": [
    {
     "data": {
      "text/html": [
       "<div>\n",
       "<style scoped>\n",
       "    .dataframe tbody tr th:only-of-type {\n",
       "        vertical-align: middle;\n",
       "    }\n",
       "\n",
       "    .dataframe tbody tr th {\n",
       "        vertical-align: top;\n",
       "    }\n",
       "\n",
       "    .dataframe thead th {\n",
       "        text-align: right;\n",
       "    }\n",
       "</style>\n",
       "<table border=\"1\" class=\"dataframe\">\n",
       "  <thead>\n",
       "    <tr style=\"text-align: right;\">\n",
       "      <th></th>\n",
       "      <th>id_prod</th>\n",
       "      <th>categ</th>\n",
       "      <th>year</th>\n",
       "      <th>revenues</th>\n",
       "    </tr>\n",
       "  </thead>\n",
       "  <tbody>\n",
       "    <tr>\n",
       "      <th>0</th>\n",
       "      <td>0_0</td>\n",
       "      <td>0</td>\n",
       "      <td>2021</td>\n",
       "      <td>1972.50</td>\n",
       "    </tr>\n",
       "    <tr>\n",
       "      <th>1</th>\n",
       "      <td>0_0</td>\n",
       "      <td>0</td>\n",
       "      <td>2022</td>\n",
       "      <td>318.75</td>\n",
       "    </tr>\n",
       "    <tr>\n",
       "      <th>2</th>\n",
       "      <td>0_1</td>\n",
       "      <td>0</td>\n",
       "      <td>2021</td>\n",
       "      <td>2274.93</td>\n",
       "    </tr>\n",
       "    <tr>\n",
       "      <th>3</th>\n",
       "      <td>0_1</td>\n",
       "      <td>0</td>\n",
       "      <td>2022</td>\n",
       "      <td>461.58</td>\n",
       "    </tr>\n",
       "    <tr>\n",
       "      <th>4</th>\n",
       "      <td>0_10</td>\n",
       "      <td>0</td>\n",
       "      <td>2021</td>\n",
       "      <td>197.45</td>\n",
       "    </tr>\n",
       "  </tbody>\n",
       "</table>\n",
       "</div>"
      ],
      "text/plain": [
       "  id_prod  categ  year  revenues\n",
       "0     0_0      0  2021   1972.50\n",
       "1     0_0      0  2022    318.75\n",
       "2     0_1      0  2021   2274.93\n",
       "3     0_1      0  2022    461.58\n",
       "4    0_10      0  2021    197.45"
      ]
     },
     "execution_count": 47,
     "metadata": {},
     "output_type": "execute_result"
    }
   ],
   "source": [
    "# Revenues par produits\n",
    "df_revbyprod=df_revenues.groupby(['id_prod','categ','year'])['price'].sum().reset_index()\n",
    "df_revbyprod.rename(columns={'price':'revenues'}, inplace=True)\n",
    "df_revbyprod.head()"
   ]
  },
  {
   "cell_type": "code",
   "execution_count": 48,
   "metadata": {},
   "outputs": [
    {
     "data": {
      "text/html": [
       "<div>\n",
       "<style scoped>\n",
       "    .dataframe tbody tr th:only-of-type {\n",
       "        vertical-align: middle;\n",
       "    }\n",
       "\n",
       "    .dataframe tbody tr th {\n",
       "        vertical-align: top;\n",
       "    }\n",
       "\n",
       "    .dataframe thead th {\n",
       "        text-align: right;\n",
       "    }\n",
       "</style>\n",
       "<table border=\"1\" class=\"dataframe\">\n",
       "  <thead>\n",
       "    <tr style=\"text-align: right;\">\n",
       "      <th></th>\n",
       "      <th>year</th>\n",
       "      <th>revenues</th>\n",
       "    </tr>\n",
       "  </thead>\n",
       "  <tbody>\n",
       "    <tr>\n",
       "      <th>0</th>\n",
       "      <td>2021</td>\n",
       "      <td>4.741902e+06</td>\n",
       "    </tr>\n",
       "    <tr>\n",
       "      <th>1</th>\n",
       "      <td>2022</td>\n",
       "      <td>1.055884e+06</td>\n",
       "    </tr>\n",
       "  </tbody>\n",
       "</table>\n",
       "</div>"
      ],
      "text/plain": [
       "   year      revenues\n",
       "0  2021  4.741902e+06\n",
       "1  2022  1.055884e+06"
      ]
     },
     "execution_count": 48,
     "metadata": {},
     "output_type": "execute_result"
    }
   ],
   "source": [
    "# Revenues par année\n",
    "df_revbyear=df_revenues.groupby(['year'])['price'].sum().reset_index()\n",
    "df_revbyear.rename(columns={'price':'revenues'}, inplace=True)\n",
    "df_revbyear.head()\n",
    "# Ajouter histogramme"
   ]
  },
  {
   "cell_type": "code",
   "execution_count": 49,
   "metadata": {
    "scrolled": true
   },
   "outputs": [
    {
     "data": {
      "text/html": [
       "<div>\n",
       "<style scoped>\n",
       "    .dataframe tbody tr th:only-of-type {\n",
       "        vertical-align: middle;\n",
       "    }\n",
       "\n",
       "    .dataframe tbody tr th {\n",
       "        vertical-align: top;\n",
       "    }\n",
       "\n",
       "    .dataframe thead th {\n",
       "        text-align: right;\n",
       "    }\n",
       "</style>\n",
       "<table border=\"1\" class=\"dataframe\">\n",
       "  <thead>\n",
       "    <tr style=\"text-align: right;\">\n",
       "      <th></th>\n",
       "      <th>categ</th>\n",
       "      <th>revenues</th>\n",
       "    </tr>\n",
       "  </thead>\n",
       "  <tbody>\n",
       "    <tr>\n",
       "      <th>0</th>\n",
       "      <td>0</td>\n",
       "      <td>2.230931e+06</td>\n",
       "    </tr>\n",
       "    <tr>\n",
       "      <th>1</th>\n",
       "      <td>1</td>\n",
       "      <td>2.247384e+06</td>\n",
       "    </tr>\n",
       "    <tr>\n",
       "      <th>2</th>\n",
       "      <td>2</td>\n",
       "      <td>1.319471e+06</td>\n",
       "    </tr>\n",
       "  </tbody>\n",
       "</table>\n",
       "</div>"
      ],
      "text/plain": [
       "   categ      revenues\n",
       "0      0  2.230931e+06\n",
       "1      1  2.247384e+06\n",
       "2      2  1.319471e+06"
      ]
     },
     "execution_count": 49,
     "metadata": {},
     "output_type": "execute_result"
    }
   ],
   "source": [
    "# Revenues par catégorie\n",
    "df_revbycat=df_revenues.groupby(['categ'])['price'].sum().reset_index()\n",
    "df_revbycat.rename(columns={'price':'revenues'}, inplace=True)\n",
    "df_revbycat"
   ]
  },
  {
   "cell_type": "code",
   "execution_count": 50,
   "metadata": {},
   "outputs": [
    {
     "data": {
      "image/png": "[encoded data removed]",
      "text/plain": [
       "<Figure size 432x288 with 1 Axes>"
      ]
     },
     "metadata": {},
     "output_type": "display_data"
    }
   ],
   "source": [
    "labels = df_revbycat['categ']\n",
    "sizes = df_revbycat['revenues']\n",
    "explode = (0, 0, 0) \n",
    "\n",
    "fig1, ax1 = plt.subplots()\n",
    "ax1.pie(sizes, explode=explode, labels=labels, autopct='%1.1f%%',\n",
    "        shadow=True, startangle=90)\n",
    "ax1.axis('equal') \n",
    "\n",
    "plt.show()"
   ]
  },
  {
   "cell_type": "code",
   "execution_count": 51,
   "metadata": {},
   "outputs": [
    {
     "data": {
      "text/html": [
       "<div>\n",
       "<style scoped>\n",
       "    .dataframe tbody tr th:only-of-type {\n",
       "        vertical-align: middle;\n",
       "    }\n",
       "\n",
       "    .dataframe tbody tr th {\n",
       "        vertical-align: top;\n",
       "    }\n",
       "\n",
       "    .dataframe thead th {\n",
       "        text-align: right;\n",
       "    }\n",
       "</style>\n",
       "<table border=\"1\" class=\"dataframe\">\n",
       "  <thead>\n",
       "    <tr style=\"text-align: right;\">\n",
       "      <th></th>\n",
       "      <th>categ</th>\n",
       "      <th>count</th>\n",
       "      <th>%</th>\n",
       "    </tr>\n",
       "  </thead>\n",
       "  <tbody>\n",
       "    <tr>\n",
       "      <th>0</th>\n",
       "      <td>0</td>\n",
       "      <td>209529</td>\n",
       "      <td>62.0</td>\n",
       "    </tr>\n",
       "    <tr>\n",
       "      <th>1</th>\n",
       "      <td>1</td>\n",
       "      <td>109735</td>\n",
       "      <td>33.0</td>\n",
       "    </tr>\n",
       "    <tr>\n",
       "      <th>2</th>\n",
       "      <td>2</td>\n",
       "      <td>17552</td>\n",
       "      <td>5.0</td>\n",
       "    </tr>\n",
       "  </tbody>\n",
       "</table>\n",
       "</div>"
      ],
      "text/plain": [
       "   categ   count     %\n",
       "0      0  209529  62.0\n",
       "1      1  109735  33.0\n",
       "2      2   17552   5.0"
      ]
     },
     "execution_count": 51,
     "metadata": {},
     "output_type": "execute_result"
    }
   ],
   "source": [
    "# transactions par catégorie\n",
    "df_revbycatt=df_revenues.groupby(['categ']).count().reset_index()\n",
    "df_revbycatt=df_revbycatt.drop(columns=['price','date','session_id','client_id','month','hour','year'])\n",
    "df_revbycatt.rename(columns={'id_prod':'count'}, inplace=True)\n",
    "df_revbycatt['%']=round(df_revbycatt['count']/df_revbycatt['count'].sum()*100, 0)\n",
    "df_revbycatt"
   ]
  },
  {
   "cell_type": "code",
   "execution_count": 52,
   "metadata": {},
   "outputs": [
    {
     "data": {
      "image/png": "[encoded data removed]",
      "text/plain": [
       "<Figure size 432x288 with 1 Axes>"
      ]
     },
     "metadata": {},
     "output_type": "display_data"
    }
   ],
   "source": [
    "labels = df_revbycatt['categ']\n",
    "sizes = df_revbycatt['%']\n",
    "explode = (0, 0, 0) \n",
    "\n",
    "fig1, ax1 = plt.subplots()\n",
    "ax1.pie(sizes, explode=explode, labels=labels, autopct='%1.1f%%',\n",
    "        shadow=True, startangle=90)\n",
    "ax1.axis('equal') \n",
    "\n",
    "plt.show()"
   ]
  },
  {
   "cell_type": "markdown",
   "metadata": {},
   "source": [
    "# Tendances centrales et de dispersions des achats par client"
   ]
  },
  {
   "cell_type": "code",
   "execution_count": 53,
   "metadata": {},
   "outputs": [
    {
     "data": {
      "text/html": [
       "<div>\n",
       "<style scoped>\n",
       "    .dataframe tbody tr th:only-of-type {\n",
       "        vertical-align: middle;\n",
       "    }\n",
       "\n",
       "    .dataframe tbody tr th {\n",
       "        vertical-align: top;\n",
       "    }\n",
       "\n",
       "    .dataframe thead th {\n",
       "        text-align: right;\n",
       "    }\n",
       "</style>\n",
       "<table border=\"1\" class=\"dataframe\">\n",
       "  <thead>\n",
       "    <tr style=\"text-align: right;\">\n",
       "      <th></th>\n",
       "      <th>client_id</th>\n",
       "      <th>expenses</th>\n",
       "    </tr>\n",
       "  </thead>\n",
       "  <tbody>\n",
       "    <tr>\n",
       "      <th>0</th>\n",
       "      <td>1</td>\n",
       "      <td>300.65</td>\n",
       "    </tr>\n",
       "    <tr>\n",
       "      <th>1</th>\n",
       "      <td>10</td>\n",
       "      <td>586.18</td>\n",
       "    </tr>\n",
       "    <tr>\n",
       "      <th>2</th>\n",
       "      <td>100</td>\n",
       "      <td>222.87</td>\n",
       "    </tr>\n",
       "    <tr>\n",
       "      <th>3</th>\n",
       "      <td>1000</td>\n",
       "      <td>980.02</td>\n",
       "    </tr>\n",
       "    <tr>\n",
       "      <th>4</th>\n",
       "      <td>1001</td>\n",
       "      <td>1102.45</td>\n",
       "    </tr>\n",
       "  </tbody>\n",
       "</table>\n",
       "</div>"
      ],
      "text/plain": [
       "  client_id  expenses\n",
       "0         1    300.65\n",
       "1        10    586.18\n",
       "2       100    222.87\n",
       "3      1000    980.02\n",
       "4      1001   1102.45"
      ]
     },
     "execution_count": 53,
     "metadata": {},
     "output_type": "execute_result"
    }
   ],
   "source": [
    "# On regroupe les ventes par client_id\n",
    "df_revbyclient=df_revenues.groupby(['client_id'])['price'].sum().reset_index()\n",
    "df_revbyclient.rename(columns={'price':'expenses'}, inplace=True)\n",
    "df_revbyclient.head()"
   ]
  },
  {
   "cell_type": "code",
   "execution_count": 54,
   "metadata": {
    "scrolled": true
   },
   "outputs": [
    {
     "name": "stdout",
     "output_type": "stream",
     "text": [
      "client_id       999.00\n",
      "expenses     162007.34\n",
      "dtype: float64\n",
      "client_id    1.00\n",
      "expenses     4.15\n",
      "dtype: float64\n",
      "client_id           inf\n",
      "expenses     674.161158\n",
      "dtype: float64\n",
      "client_id    4310.500\n",
      "expenses      501.345\n",
      "dtype: float64\n",
      "expenses    6.584367e+06\n",
      "dtype: float64\n",
      "      expenses\n",
      "0.25  275.7650\n",
      "0.50  501.3450\n",
      "0.75  870.8975\n"
     ]
    }
   ],
   "source": [
    "max_revbyclient=df_revbyclient.max()\n",
    "min_revbyclient=df_revbyclient.min()\n",
    "mean_revbyclient=df_revbyclient.mean()\n",
    "median_revbyclient=df_revbyclient.median()\n",
    "var_revbyclient=df_revbyclient.var()\n",
    "quant_revbyclient=df_revbyclient.quantile(([0.25,0.5,0.75]))\n",
    "\n",
    "# Ajouter le min, le max, les quantiles (1er qui représente avant 25% et 3eme qui represénte 75% et le reste)\n",
    "\n",
    "print(max_revbyclient)\n",
    "print(min_revbyclient)\n",
    "print(mean_revbyclient)\n",
    "print(median_revbyclient)\n",
    "print(var_revbyclient)\n",
    "print(quant_revbyclient)"
   ]
  },
  {
   "cell_type": "code",
   "execution_count": 55,
   "metadata": {},
   "outputs": [
    {
     "data": {
      "text/html": [
       "<div>\n",
       "<style scoped>\n",
       "    .dataframe tbody tr th:only-of-type {\n",
       "        vertical-align: middle;\n",
       "    }\n",
       "\n",
       "    .dataframe tbody tr th {\n",
       "        vertical-align: top;\n",
       "    }\n",
       "\n",
       "    .dataframe thead th {\n",
       "        text-align: right;\n",
       "    }\n",
       "</style>\n",
       "<table border=\"1\" class=\"dataframe\">\n",
       "  <thead>\n",
       "    <tr style=\"text-align: right;\">\n",
       "      <th></th>\n",
       "      <th>client_id</th>\n",
       "      <th>expenses</th>\n",
       "    </tr>\n",
       "  </thead>\n",
       "  <tbody>\n",
       "    <tr>\n",
       "      <th>7918</th>\n",
       "      <td>8140</td>\n",
       "      <td>4.15</td>\n",
       "    </tr>\n",
       "    <tr>\n",
       "      <th>7889</th>\n",
       "      <td>8114</td>\n",
       "      <td>4.99</td>\n",
       "    </tr>\n",
       "    <tr>\n",
       "      <th>750</th>\n",
       "      <td>1675</td>\n",
       "      <td>5.57</td>\n",
       "    </tr>\n",
       "    <tr>\n",
       "      <th>8480</th>\n",
       "      <td>890</td>\n",
       "      <td>6.08</td>\n",
       "    </tr>\n",
       "    <tr>\n",
       "      <th>8151</th>\n",
       "      <td>8351</td>\n",
       "      <td>6.31</td>\n",
       "    </tr>\n",
       "  </tbody>\n",
       "</table>\n",
       "</div>"
      ],
      "text/plain": [
       "     client_id  expenses\n",
       "7918      8140      4.15\n",
       "7889      8114      4.99\n",
       "750       1675      5.57\n",
       "8480       890      6.08\n",
       "8151      8351      6.31"
      ]
     },
     "execution_count": 55,
     "metadata": {},
     "output_type": "execute_result"
    }
   ],
   "source": [
    "df_revbyclient.sort_values(by=['expenses']).head()"
   ]
  },
  {
   "cell_type": "markdown",
   "metadata": {},
   "source": [
    "# Courbe de Lorenz : % des dépenses selon % client"
   ]
  },
  {
   "cell_type": "code",
   "execution_count": 56,
   "metadata": {},
   "outputs": [
    {
     "data": {
      "text/html": [
       "<div>\n",
       "<style scoped>\n",
       "    .dataframe tbody tr th:only-of-type {\n",
       "        vertical-align: middle;\n",
       "    }\n",
       "\n",
       "    .dataframe tbody tr th {\n",
       "        vertical-align: top;\n",
       "    }\n",
       "\n",
       "    .dataframe thead th {\n",
       "        text-align: right;\n",
       "    }\n",
       "</style>\n",
       "<table border=\"1\" class=\"dataframe\">\n",
       "  <thead>\n",
       "    <tr style=\"text-align: right;\">\n",
       "      <th></th>\n",
       "      <th>client_id</th>\n",
       "      <th>expenses</th>\n",
       "    </tr>\n",
       "  </thead>\n",
       "  <tbody>\n",
       "    <tr>\n",
       "      <th>7918</th>\n",
       "      <td>8140</td>\n",
       "      <td>4.15</td>\n",
       "    </tr>\n",
       "    <tr>\n",
       "      <th>7889</th>\n",
       "      <td>8114</td>\n",
       "      <td>4.99</td>\n",
       "    </tr>\n",
       "    <tr>\n",
       "      <th>750</th>\n",
       "      <td>1675</td>\n",
       "      <td>5.57</td>\n",
       "    </tr>\n",
       "    <tr>\n",
       "      <th>8480</th>\n",
       "      <td>890</td>\n",
       "      <td>6.08</td>\n",
       "    </tr>\n",
       "    <tr>\n",
       "      <th>8151</th>\n",
       "      <td>8351</td>\n",
       "      <td>6.31</td>\n",
       "    </tr>\n",
       "  </tbody>\n",
       "</table>\n",
       "</div>"
      ],
      "text/plain": [
       "     client_id  expenses\n",
       "7918      8140      4.15\n",
       "7889      8114      4.99\n",
       "750       1675      5.57\n",
       "8480       890      6.08\n",
       "8151      8351      6.31"
      ]
     },
     "execution_count": 56,
     "metadata": {},
     "output_type": "execute_result"
    }
   ],
   "source": [
    "df_revbyclient.sort_values(by=['expenses']).head()"
   ]
  },
  {
   "cell_type": "code",
   "execution_count": 57,
   "metadata": {},
   "outputs": [],
   "source": [
    "revbyclient_lorenz = df_revbyclient.sort_values(by=['expenses']).expenses.cumsum() / df_revbyclient.sort_values(by=['expenses']).expenses.sum()"
   ]
  },
  {
   "cell_type": "code",
   "execution_count": 58,
   "metadata": {},
   "outputs": [
    {
     "data": {
      "text/plain": [
       "[<matplotlib.lines.Line2D at 0x1c254cd390>]"
      ]
     },
     "execution_count": 58,
     "metadata": {},
     "output_type": "execute_result"
    },
    {
     "data": {
      "image/png": "[encoded data removed]",
      "text/plain": [
       "<Figure size 720x576 with 1 Axes>"
      ]
     },
     "metadata": {},
     "output_type": "display_data"
    }
   ],
   "source": [
    "fig, ax = plt.subplots(figsize=[10,8])\n",
    "## scatter plot of Lorenz curve\n",
    "ax.scatter(np.arange(revbyclient_lorenz.size)/(revbyclient_lorenz.size-1), revbyclient_lorenz, \n",
    "           marker='x', color='darkgreen', s=0.1)\n",
    "## line plot of equality\n",
    "ax.plot([0,1], [0,1], color='k')"
   ]
  },
  {
   "cell_type": "code",
   "execution_count": 59,
   "metadata": {},
   "outputs": [],
   "source": [
    "def gini(list_of_values):\n",
    "    sorted_list = sorted(list_of_values)\n",
    "    height, area = 0, 0\n",
    "    for value in sorted_list:\n",
    "        height += value\n",
    "        area += height - value / 2.\n",
    "    fair_area = height * len(list_of_values) / 2.\n",
    "    return (fair_area - area) / fair_area"
   ]
  },
  {
   "cell_type": "code",
   "execution_count": 60,
   "metadata": {},
   "outputs": [
    {
     "data": {
      "text/plain": [
       "0.4397174885499565"
      ]
     },
     "execution_count": 60,
     "metadata": {},
     "output_type": "execute_result"
    }
   ],
   "source": [
    "gini(df_revbyclient['expenses'])"
   ]
  },
  {
   "cell_type": "code",
   "execution_count": 61,
   "metadata": {},
   "outputs": [
    {
     "data": {
      "text/html": [
       "<div>\n",
       "<style scoped>\n",
       "    .dataframe tbody tr th:only-of-type {\n",
       "        vertical-align: middle;\n",
       "    }\n",
       "\n",
       "    .dataframe tbody tr th {\n",
       "        vertical-align: top;\n",
       "    }\n",
       "\n",
       "    .dataframe thead th {\n",
       "        text-align: right;\n",
       "    }\n",
       "</style>\n",
       "<table border=\"1\" class=\"dataframe\">\n",
       "  <thead>\n",
       "    <tr style=\"text-align: right;\">\n",
       "      <th></th>\n",
       "      <th>client_id</th>\n",
       "      <th>expenses</th>\n",
       "    </tr>\n",
       "  </thead>\n",
       "  <tbody>\n",
       "    <tr>\n",
       "      <th>2724</th>\n",
       "      <td>3454</td>\n",
       "      <td>54466.38</td>\n",
       "    </tr>\n",
       "    <tr>\n",
       "      <th>6337</th>\n",
       "      <td>6714</td>\n",
       "      <td>73220.80</td>\n",
       "    </tr>\n",
       "    <tr>\n",
       "      <th>4388</th>\n",
       "      <td>4958</td>\n",
       "      <td>144257.21</td>\n",
       "    </tr>\n",
       "    <tr>\n",
       "      <th>677</th>\n",
       "      <td>1609</td>\n",
       "      <td>162007.34</td>\n",
       "    </tr>\n",
       "  </tbody>\n",
       "</table>\n",
       "</div>"
      ],
      "text/plain": [
       "     client_id   expenses\n",
       "2724      3454   54466.38\n",
       "6337      6714   73220.80\n",
       "4388      4958  144257.21\n",
       "677       1609  162007.34"
      ]
     },
     "execution_count": 61,
     "metadata": {},
     "output_type": "execute_result"
    }
   ],
   "source": [
    "df_revbyclient.sort_values(by=['expenses']).tail(4)"
   ]
  },
  {
   "cell_type": "markdown",
   "metadata": {},
   "source": [
    "# Graphique du nombre de transactions par jour sur la période"
   ]
  },
  {
   "cell_type": "code",
   "execution_count": 62,
   "metadata": {},
   "outputs": [
    {
     "data": {
      "text/html": [
       "<div>\n",
       "<style scoped>\n",
       "    .dataframe tbody tr th:only-of-type {\n",
       "        vertical-align: middle;\n",
       "    }\n",
       "\n",
       "    .dataframe tbody tr th {\n",
       "        vertical-align: top;\n",
       "    }\n",
       "\n",
       "    .dataframe thead th {\n",
       "        text-align: right;\n",
       "    }\n",
       "</style>\n",
       "<table border=\"1\" class=\"dataframe\">\n",
       "  <thead>\n",
       "    <tr style=\"text-align: right;\">\n",
       "      <th></th>\n",
       "      <th>date</th>\n",
       "      <th>transactions</th>\n",
       "    </tr>\n",
       "  </thead>\n",
       "  <tbody>\n",
       "    <tr>\n",
       "      <th>122</th>\n",
       "      <td>2021-03-01</td>\n",
       "      <td>961</td>\n",
       "    </tr>\n",
       "    <tr>\n",
       "      <th>159</th>\n",
       "      <td>2021-03-02</td>\n",
       "      <td>938</td>\n",
       "    </tr>\n",
       "    <tr>\n",
       "      <th>221</th>\n",
       "      <td>2021-03-03</td>\n",
       "      <td>905</td>\n",
       "    </tr>\n",
       "    <tr>\n",
       "      <th>229</th>\n",
       "      <td>2021-03-04</td>\n",
       "      <td>901</td>\n",
       "    </tr>\n",
       "    <tr>\n",
       "      <th>157</th>\n",
       "      <td>2021-03-05</td>\n",
       "      <td>939</td>\n",
       "    </tr>\n",
       "  </tbody>\n",
       "</table>\n",
       "</div>"
      ],
      "text/plain": [
       "          date  transactions\n",
       "122 2021-03-01           961\n",
       "159 2021-03-02           938\n",
       "221 2021-03-03           905\n",
       "229 2021-03-04           901\n",
       "157 2021-03-05           939"
      ]
     },
     "execution_count": 62,
     "metadata": {},
     "output_type": "execute_result"
    }
   ],
   "source": [
    "df_transactions = df_revenues['date'].value_counts() # on crée une liste avec le nombre de transactions par date \n",
    "df_transactions = pd.DataFrame(df_transactions) # on en fait une df\n",
    "df_transactions.rename(columns={'date':'transactions'},inplace=True) # on met le bon nom de colonne\n",
    "df_transactions = df_transactions.reset_index()\n",
    "df_transactions.rename(columns={'index':'date'}, inplace=True) # on sort les dates de l'index\n",
    "df_transactions = df_transactions.sort_values(by=['date']) # on ordonne par date\n",
    "df_transactions.date=pd.to_datetime(df_transactions.date,format=\"%Y-%m-%d\") # on met en format date\n",
    "df_transactions.head()"
   ]
  },
  {
   "cell_type": "code",
   "execution_count": 63,
   "metadata": {},
   "outputs": [
    {
     "data": {
      "image/png": "[encoded data removed]",
      "text/plain": [
       "<Figure size 1440x576 with 1 Axes>"
      ]
     },
     "metadata": {},
     "output_type": "display_data"
    }
   ],
   "source": [
    "# Série temporelle du nombre de transactions par jour = courbe qui n'est pas stationnaire, on parle d'irrégularité, on détecte le phénomène de saisonnalité\n",
    "Graph_trans21=df_transactions.plot(x='date', y='transactions',kind='line',figsize=(20,8), legend=False, color='blue')"
   ]
  },
  {
   "cell_type": "code",
   "execution_count": 64,
   "metadata": {},
   "outputs": [
    {
     "data": {
      "text/html": [
       "<div>\n",
       "<style scoped>\n",
       "    .dataframe tbody tr th:only-of-type {\n",
       "        vertical-align: middle;\n",
       "    }\n",
       "\n",
       "    .dataframe tbody tr th {\n",
       "        vertical-align: top;\n",
       "    }\n",
       "\n",
       "    .dataframe thead th {\n",
       "        text-align: right;\n",
       "    }\n",
       "</style>\n",
       "<table border=\"1\" class=\"dataframe\">\n",
       "  <thead>\n",
       "    <tr style=\"text-align: right;\">\n",
       "      <th>categ</th>\n",
       "      <th>date</th>\n",
       "      <th>0</th>\n",
       "      <th>1</th>\n",
       "      <th>2</th>\n",
       "    </tr>\n",
       "  </thead>\n",
       "  <tbody>\n",
       "    <tr>\n",
       "      <th>0</th>\n",
       "      <td>2021-10-01</td>\n",
       "      <td>6947.51</td>\n",
       "      <td>7003.79</td>\n",
       "      <td>2958.06</td>\n",
       "    </tr>\n",
       "    <tr>\n",
       "      <th>1</th>\n",
       "      <td>2021-10-02</td>\n",
       "      <td>7138.02</td>\n",
       "      <td>0.00</td>\n",
       "      <td>1895.13</td>\n",
       "    </tr>\n",
       "    <tr>\n",
       "      <th>2</th>\n",
       "      <td>2021-10-03</td>\n",
       "      <td>6783.58</td>\n",
       "      <td>0.00</td>\n",
       "      <td>2060.49</td>\n",
       "    </tr>\n",
       "    <tr>\n",
       "      <th>3</th>\n",
       "      <td>2021-10-04</td>\n",
       "      <td>6554.07</td>\n",
       "      <td>0.00</td>\n",
       "      <td>2600.09</td>\n",
       "    </tr>\n",
       "    <tr>\n",
       "      <th>4</th>\n",
       "      <td>2021-10-05</td>\n",
       "      <td>6357.91</td>\n",
       "      <td>0.00</td>\n",
       "      <td>3032.55</td>\n",
       "    </tr>\n",
       "    <tr>\n",
       "      <th>5</th>\n",
       "      <td>2021-10-06</td>\n",
       "      <td>7543.59</td>\n",
       "      <td>0.00</td>\n",
       "      <td>1798.12</td>\n",
       "    </tr>\n",
       "    <tr>\n",
       "      <th>6</th>\n",
       "      <td>2021-10-07</td>\n",
       "      <td>6404.01</td>\n",
       "      <td>0.00</td>\n",
       "      <td>1787.07</td>\n",
       "    </tr>\n",
       "    <tr>\n",
       "      <th>7</th>\n",
       "      <td>2021-10-08</td>\n",
       "      <td>7069.53</td>\n",
       "      <td>0.00</td>\n",
       "      <td>3137.82</td>\n",
       "    </tr>\n",
       "    <tr>\n",
       "      <th>8</th>\n",
       "      <td>2021-10-09</td>\n",
       "      <td>6808.69</td>\n",
       "      <td>0.00</td>\n",
       "      <td>2616.67</td>\n",
       "    </tr>\n",
       "    <tr>\n",
       "      <th>9</th>\n",
       "      <td>2021-10-10</td>\n",
       "      <td>6487.99</td>\n",
       "      <td>0.00</td>\n",
       "      <td>2188.68</td>\n",
       "    </tr>\n",
       "    <tr>\n",
       "      <th>10</th>\n",
       "      <td>2021-10-11</td>\n",
       "      <td>7005.40</td>\n",
       "      <td>0.00</td>\n",
       "      <td>3225.16</td>\n",
       "    </tr>\n",
       "    <tr>\n",
       "      <th>11</th>\n",
       "      <td>2021-10-12</td>\n",
       "      <td>6703.98</td>\n",
       "      <td>0.00</td>\n",
       "      <td>2118.19</td>\n",
       "    </tr>\n",
       "    <tr>\n",
       "      <th>12</th>\n",
       "      <td>2021-10-13</td>\n",
       "      <td>6760.40</td>\n",
       "      <td>0.00</td>\n",
       "      <td>2666.82</td>\n",
       "    </tr>\n",
       "    <tr>\n",
       "      <th>13</th>\n",
       "      <td>2021-10-14</td>\n",
       "      <td>6419.40</td>\n",
       "      <td>0.00</td>\n",
       "      <td>2901.40</td>\n",
       "    </tr>\n",
       "    <tr>\n",
       "      <th>14</th>\n",
       "      <td>2021-10-15</td>\n",
       "      <td>6705.82</td>\n",
       "      <td>0.00</td>\n",
       "      <td>2555.76</td>\n",
       "    </tr>\n",
       "    <tr>\n",
       "      <th>15</th>\n",
       "      <td>2021-10-16</td>\n",
       "      <td>6898.14</td>\n",
       "      <td>0.00</td>\n",
       "      <td>3330.88</td>\n",
       "    </tr>\n",
       "    <tr>\n",
       "      <th>16</th>\n",
       "      <td>2021-10-17</td>\n",
       "      <td>6492.60</td>\n",
       "      <td>0.00</td>\n",
       "      <td>3065.38</td>\n",
       "    </tr>\n",
       "    <tr>\n",
       "      <th>17</th>\n",
       "      <td>2021-10-18</td>\n",
       "      <td>6376.43</td>\n",
       "      <td>0.00</td>\n",
       "      <td>2707.29</td>\n",
       "    </tr>\n",
       "    <tr>\n",
       "      <th>18</th>\n",
       "      <td>2021-10-19</td>\n",
       "      <td>5809.17</td>\n",
       "      <td>0.00</td>\n",
       "      <td>2816.00</td>\n",
       "    </tr>\n",
       "    <tr>\n",
       "      <th>19</th>\n",
       "      <td>2021-10-20</td>\n",
       "      <td>5914.50</td>\n",
       "      <td>0.00</td>\n",
       "      <td>3118.42</td>\n",
       "    </tr>\n",
       "    <tr>\n",
       "      <th>20</th>\n",
       "      <td>2021-10-21</td>\n",
       "      <td>6438.85</td>\n",
       "      <td>0.00</td>\n",
       "      <td>3132.94</td>\n",
       "    </tr>\n",
       "    <tr>\n",
       "      <th>21</th>\n",
       "      <td>2021-10-22</td>\n",
       "      <td>6048.87</td>\n",
       "      <td>0.00</td>\n",
       "      <td>2270.01</td>\n",
       "    </tr>\n",
       "    <tr>\n",
       "      <th>22</th>\n",
       "      <td>2021-10-23</td>\n",
       "      <td>5704.26</td>\n",
       "      <td>0.00</td>\n",
       "      <td>3206.38</td>\n",
       "    </tr>\n",
       "    <tr>\n",
       "      <th>23</th>\n",
       "      <td>2021-10-24</td>\n",
       "      <td>6036.65</td>\n",
       "      <td>0.00</td>\n",
       "      <td>3886.54</td>\n",
       "    </tr>\n",
       "    <tr>\n",
       "      <th>24</th>\n",
       "      <td>2021-10-25</td>\n",
       "      <td>5817.82</td>\n",
       "      <td>0.00</td>\n",
       "      <td>2258.22</td>\n",
       "    </tr>\n",
       "    <tr>\n",
       "      <th>25</th>\n",
       "      <td>2021-10-26</td>\n",
       "      <td>6343.75</td>\n",
       "      <td>0.00</td>\n",
       "      <td>2539.79</td>\n",
       "    </tr>\n",
       "    <tr>\n",
       "      <th>26</th>\n",
       "      <td>2021-10-27</td>\n",
       "      <td>5822.24</td>\n",
       "      <td>0.00</td>\n",
       "      <td>3967.29</td>\n",
       "    </tr>\n",
       "    <tr>\n",
       "      <th>27</th>\n",
       "      <td>2021-10-28</td>\n",
       "      <td>5837.61</td>\n",
       "      <td>6317.99</td>\n",
       "      <td>2602.82</td>\n",
       "    </tr>\n",
       "    <tr>\n",
       "      <th>28</th>\n",
       "      <td>2021-10-29</td>\n",
       "      <td>6410.57</td>\n",
       "      <td>6425.18</td>\n",
       "      <td>3617.88</td>\n",
       "    </tr>\n",
       "    <tr>\n",
       "      <th>29</th>\n",
       "      <td>2021-10-30</td>\n",
       "      <td>5734.62</td>\n",
       "      <td>6753.69</td>\n",
       "      <td>2898.47</td>\n",
       "    </tr>\n",
       "    <tr>\n",
       "      <th>30</th>\n",
       "      <td>2021-10-31</td>\n",
       "      <td>5924.07</td>\n",
       "      <td>7261.67</td>\n",
       "      <td>3219.38</td>\n",
       "    </tr>\n",
       "  </tbody>\n",
       "</table>\n",
       "</div>"
      ],
      "text/plain": [
       "categ        date        0        1        2\n",
       "0      2021-10-01  6947.51  7003.79  2958.06\n",
       "1      2021-10-02  7138.02     0.00  1895.13\n",
       "2      2021-10-03  6783.58     0.00  2060.49\n",
       "3      2021-10-04  6554.07     0.00  2600.09\n",
       "4      2021-10-05  6357.91     0.00  3032.55\n",
       "5      2021-10-06  7543.59     0.00  1798.12\n",
       "6      2021-10-07  6404.01     0.00  1787.07\n",
       "7      2021-10-08  7069.53     0.00  3137.82\n",
       "8      2021-10-09  6808.69     0.00  2616.67\n",
       "9      2021-10-10  6487.99     0.00  2188.68\n",
       "10     2021-10-11  7005.40     0.00  3225.16\n",
       "11     2021-10-12  6703.98     0.00  2118.19\n",
       "12     2021-10-13  6760.40     0.00  2666.82\n",
       "13     2021-10-14  6419.40     0.00  2901.40\n",
       "14     2021-10-15  6705.82     0.00  2555.76\n",
       "15     2021-10-16  6898.14     0.00  3330.88\n",
       "16     2021-10-17  6492.60     0.00  3065.38\n",
       "17     2021-10-18  6376.43     0.00  2707.29\n",
       "18     2021-10-19  5809.17     0.00  2816.00\n",
       "19     2021-10-20  5914.50     0.00  3118.42\n",
       "20     2021-10-21  6438.85     0.00  3132.94\n",
       "21     2021-10-22  6048.87     0.00  2270.01\n",
       "22     2021-10-23  5704.26     0.00  3206.38\n",
       "23     2021-10-24  6036.65     0.00  3886.54\n",
       "24     2021-10-25  5817.82     0.00  2258.22\n",
       "25     2021-10-26  6343.75     0.00  2539.79\n",
       "26     2021-10-27  5822.24     0.00  3967.29\n",
       "27     2021-10-28  5837.61  6317.99  2602.82\n",
       "28     2021-10-29  6410.57  6425.18  3617.88\n",
       "29     2021-10-30  5734.62  6753.69  2898.47\n",
       "30     2021-10-31  5924.07  7261.67  3219.38"
      ]
     },
     "execution_count": 64,
     "metadata": {},
     "output_type": "execute_result"
    }
   ],
   "source": [
    "df_oct=df_revenues[df_revenues['month']=='10']\n",
    "df_oct=df_oct.groupby(['date','categ'])['price'].sum().reset_index()\n",
    "df_oct=df_oct.pivot_table(index='date', columns='categ', values='price', fill_value=0)\n",
    "df_oct.reset_index()\n",
    "# Pas de ventes de la catégorie 1, on imagine une rupture de stock / mauvaise gestion de stocks"
   ]
  },
  {
   "cell_type": "code",
   "execution_count": 65,
   "metadata": {},
   "outputs": [
    {
     "data": {
      "text/plain": [
       "<matplotlib.axes._subplots.AxesSubplot at 0x1c257d7b70>"
      ]
     },
     "execution_count": 65,
     "metadata": {},
     "output_type": "execute_result"
    },
    {
     "data": {
      "image/png": "[encoded data removed]",
      "text/plain": [
       "<Figure size 720x720 with 1 Axes>"
      ]
     },
     "metadata": {},
     "output_type": "display_data"
    }
   ],
   "source": [
    "df_oct.plot(kind=\"bar\",figsize=(10,10),stacked=True)"
   ]
  },
  {
   "cell_type": "markdown",
   "metadata": {},
   "source": [
    "# Histogramme du montant de panier pour chaque session"
   ]
  },
  {
   "cell_type": "code",
   "execution_count": 66,
   "metadata": {
    "scrolled": true
   },
   "outputs": [
    {
     "data": {
      "text/html": [
       "<div>\n",
       "<style scoped>\n",
       "    .dataframe tbody tr th:only-of-type {\n",
       "        vertical-align: middle;\n",
       "    }\n",
       "\n",
       "    .dataframe tbody tr th {\n",
       "        vertical-align: top;\n",
       "    }\n",
       "\n",
       "    .dataframe thead th {\n",
       "        text-align: right;\n",
       "    }\n",
       "</style>\n",
       "<table border=\"1\" class=\"dataframe\">\n",
       "  <thead>\n",
       "    <tr style=\"text-align: right;\">\n",
       "      <th></th>\n",
       "      <th>session_id</th>\n",
       "      <th>prix du panier acheté</th>\n",
       "    </tr>\n",
       "  </thead>\n",
       "  <tbody>\n",
       "    <tr>\n",
       "      <th>0</th>\n",
       "      <td>1</td>\n",
       "      <td>11.99</td>\n",
       "    </tr>\n",
       "    <tr>\n",
       "      <th>1</th>\n",
       "      <td>10</td>\n",
       "      <td>26.99</td>\n",
       "    </tr>\n",
       "    <tr>\n",
       "      <th>2</th>\n",
       "      <td>100</td>\n",
       "      <td>33.72</td>\n",
       "    </tr>\n",
       "    <tr>\n",
       "      <th>3</th>\n",
       "      <td>1000</td>\n",
       "      <td>39.22</td>\n",
       "    </tr>\n",
       "    <tr>\n",
       "      <th>4</th>\n",
       "      <td>10000</td>\n",
       "      <td>41.49</td>\n",
       "    </tr>\n",
       "  </tbody>\n",
       "</table>\n",
       "</div>"
      ],
      "text/plain": [
       "  session_id  prix du panier acheté\n",
       "0          1                  11.99\n",
       "1         10                  26.99\n",
       "2        100                  33.72\n",
       "3       1000                  39.22\n",
       "4      10000                  41.49"
      ]
     },
     "execution_count": 66,
     "metadata": {},
     "output_type": "execute_result"
    }
   ],
   "source": [
    "df_panier=df_revenues.groupby(['session_id'])['price'].sum().reset_index()\n",
    "df_panier.rename(columns={'price':'prix du panier acheté'}, inplace=True)\n",
    "df_panier.head()"
   ]
  },
  {
   "cell_type": "code",
   "execution_count": 67,
   "metadata": {},
   "outputs": [
    {
     "data": {
      "text/plain": [
       "34.26708961314813"
      ]
     },
     "execution_count": 67,
     "metadata": {},
     "output_type": "execute_result"
    }
   ],
   "source": [
    "df_panier['prix du panier acheté'].mean()"
   ]
  },
  {
   "cell_type": "code",
   "execution_count": 68,
   "metadata": {},
   "outputs": [
    {
     "data": {
      "text/plain": [
       "539.23"
      ]
     },
     "execution_count": 68,
     "metadata": {},
     "output_type": "execute_result"
    }
   ],
   "source": [
    "df_panier['prix du panier acheté'].max()"
   ]
  },
  {
   "cell_type": "code",
   "execution_count": 69,
   "metadata": {},
   "outputs": [
    {
     "data": {
      "text/plain": [
       "0.62"
      ]
     },
     "execution_count": 69,
     "metadata": {},
     "output_type": "execute_result"
    }
   ],
   "source": [
    "df_panier['prix du panier acheté'].min()"
   ]
  },
  {
   "cell_type": "code",
   "execution_count": 70,
   "metadata": {},
   "outputs": [
    {
     "data": {
      "text/plain": [
       "1015.8457974529198"
      ]
     },
     "execution_count": 70,
     "metadata": {},
     "output_type": "execute_result"
    }
   ],
   "source": [
    "df_panier['prix du panier acheté'].var()"
   ]
  },
  {
   "cell_type": "code",
   "execution_count": 71,
   "metadata": {},
   "outputs": [
    {
     "data": {
      "text/plain": [
       "0.25    15.20\n",
       "0.50    25.57\n",
       "0.75    42.98\n",
       "Name: prix du panier acheté, dtype: float64"
      ]
     },
     "execution_count": 71,
     "metadata": {},
     "output_type": "execute_result"
    }
   ],
   "source": [
    "df_panier['prix du panier acheté'].quantile(([0.25,0.5,0.75]))"
   ]
  },
  {
   "cell_type": "code",
   "execution_count": 72,
   "metadata": {},
   "outputs": [
    {
     "name": "stderr",
     "output_type": "stream",
     "text": [
      "/Users/eddoha/anaconda3/lib/python3.6/site-packages/matplotlib/axes/_axes.py:6462: UserWarning: The 'normed' kwarg is deprecated, and has been replaced by the 'density' kwarg.\n",
      "  warnings.warn(\"The 'normed' kwarg is deprecated, and has been \"\n"
     ]
    },
    {
     "data": {
      "text/plain": [
       "<matplotlib.axes._subplots.AxesSubplot at 0x1c25509a20>"
      ]
     },
     "execution_count": 72,
     "metadata": {},
     "output_type": "execute_result"
    },
    {
     "data": {
      "image/png": "[encoded data removed]",
      "text/plain": [
       "<Figure size 432x288 with 1 Axes>"
      ]
     },
     "metadata": {},
     "output_type": "display_data"
    }
   ],
   "source": [
    "sns.distplot(df_panier['prix du panier acheté'])"
   ]
  },
  {
   "cell_type": "markdown",
   "metadata": {},
   "source": [
    "# Graphique du revenu total par jour"
   ]
  },
  {
   "cell_type": "code",
   "execution_count": 73,
   "metadata": {},
   "outputs": [
    {
     "data": {
      "text/html": [
       "<div>\n",
       "<style scoped>\n",
       "    .dataframe tbody tr th:only-of-type {\n",
       "        vertical-align: middle;\n",
       "    }\n",
       "\n",
       "    .dataframe tbody tr th {\n",
       "        vertical-align: top;\n",
       "    }\n",
       "\n",
       "    .dataframe thead th {\n",
       "        text-align: right;\n",
       "    }\n",
       "</style>\n",
       "<table border=\"1\" class=\"dataframe\">\n",
       "  <thead>\n",
       "    <tr style=\"text-align: right;\">\n",
       "      <th></th>\n",
       "      <th>date</th>\n",
       "      <th>revenues</th>\n",
       "    </tr>\n",
       "  </thead>\n",
       "  <tbody>\n",
       "    <tr>\n",
       "      <th>0</th>\n",
       "      <td>2021-03-01</td>\n",
       "      <td>16427.97</td>\n",
       "    </tr>\n",
       "    <tr>\n",
       "      <th>1</th>\n",
       "      <td>2021-03-02</td>\n",
       "      <td>15349.20</td>\n",
       "    </tr>\n",
       "    <tr>\n",
       "      <th>2</th>\n",
       "      <td>2021-03-03</td>\n",
       "      <td>14751.75</td>\n",
       "    </tr>\n",
       "    <tr>\n",
       "      <th>3</th>\n",
       "      <td>2021-03-04</td>\n",
       "      <td>15047.09</td>\n",
       "    </tr>\n",
       "    <tr>\n",
       "      <th>4</th>\n",
       "      <td>2021-03-05</td>\n",
       "      <td>17173.41</td>\n",
       "    </tr>\n",
       "  </tbody>\n",
       "</table>\n",
       "</div>"
      ],
      "text/plain": [
       "        date  revenues\n",
       "0 2021-03-01  16427.97\n",
       "1 2021-03-02  15349.20\n",
       "2 2021-03-03  14751.75\n",
       "3 2021-03-04  15047.09\n",
       "4 2021-03-05  17173.41"
      ]
     },
     "execution_count": 73,
     "metadata": {},
     "output_type": "execute_result"
    }
   ],
   "source": [
    "df_revenues21=df_revenues[(df_revenues['year']=='2021')]\n",
    "df_revenues21=df_revenues21.groupby(['date'])['price'].sum().reset_index()\n",
    "df_revenues21.rename(columns={'price':'revenues'}, inplace=True) # on change le nom pour la bonne colonne\n",
    "df_revenues21.date=pd.to_datetime(df_revenues21.date,format=\"%Y-%m-%d\") # on met en format date\n",
    "df_revenues21.head()"
   ]
  },
  {
   "cell_type": "code",
   "execution_count": 74,
   "metadata": {},
   "outputs": [
    {
     "data": {
      "text/html": [
       "<div>\n",
       "<style scoped>\n",
       "    .dataframe tbody tr th:only-of-type {\n",
       "        vertical-align: middle;\n",
       "    }\n",
       "\n",
       "    .dataframe tbody tr th {\n",
       "        vertical-align: top;\n",
       "    }\n",
       "\n",
       "    .dataframe thead th {\n",
       "        text-align: right;\n",
       "    }\n",
       "</style>\n",
       "<table border=\"1\" class=\"dataframe\">\n",
       "  <thead>\n",
       "    <tr style=\"text-align: right;\">\n",
       "      <th></th>\n",
       "      <th>date</th>\n",
       "      <th>revenues</th>\n",
       "    </tr>\n",
       "  </thead>\n",
       "  <tbody>\n",
       "    <tr>\n",
       "      <th>0</th>\n",
       "      <td>2021-03-01</td>\n",
       "      <td>16427.97</td>\n",
       "    </tr>\n",
       "    <tr>\n",
       "      <th>1</th>\n",
       "      <td>2021-03-02</td>\n",
       "      <td>15349.20</td>\n",
       "    </tr>\n",
       "    <tr>\n",
       "      <th>2</th>\n",
       "      <td>2021-03-03</td>\n",
       "      <td>14751.75</td>\n",
       "    </tr>\n",
       "    <tr>\n",
       "      <th>3</th>\n",
       "      <td>2021-03-04</td>\n",
       "      <td>15047.09</td>\n",
       "    </tr>\n",
       "    <tr>\n",
       "      <th>4</th>\n",
       "      <td>2021-03-05</td>\n",
       "      <td>17173.41</td>\n",
       "    </tr>\n",
       "  </tbody>\n",
       "</table>\n",
       "</div>"
      ],
      "text/plain": [
       "        date  revenues\n",
       "0 2021-03-01  16427.97\n",
       "1 2021-03-02  15349.20\n",
       "2 2021-03-03  14751.75\n",
       "3 2021-03-04  15047.09\n",
       "4 2021-03-05  17173.41"
      ]
     },
     "execution_count": 74,
     "metadata": {},
     "output_type": "execute_result"
    }
   ],
   "source": [
    "df_totrevenues=df_revenues.groupby(['date'])['price'].sum().reset_index()\n",
    "df_totrevenues.rename(columns={'price':'revenues'}, inplace=True) # on change le nom pour la bonne colonne\n",
    "df_totrevenues.date=pd.to_datetime(df_totrevenues.date,format=\"%Y-%m-%d\") # on met en format date\n",
    "df_totrevenues.head()"
   ]
  },
  {
   "cell_type": "code",
   "execution_count": 75,
   "metadata": {},
   "outputs": [
    {
     "data": {
      "image/png": "[encoded data removed]",
      "text/plain": [
       "<Figure size 1440x576 with 1 Axes>"
      ]
     },
     "metadata": {},
     "output_type": "display_data"
    }
   ],
   "source": [
    "Graph_totrevenues=df_totrevenues.plot(x='date', y='revenues',kind='line',figsize=(20,8), legend=False, color='blue')"
   ]
  },
  {
   "cell_type": "markdown",
   "metadata": {},
   "source": [
    "# Dépenses selon le sexe"
   ]
  },
  {
   "cell_type": "code",
   "execution_count": 76,
   "metadata": {},
   "outputs": [
    {
     "data": {
      "text/html": [
       "<div>\n",
       "<style scoped>\n",
       "    .dataframe tbody tr th:only-of-type {\n",
       "        vertical-align: middle;\n",
       "    }\n",
       "\n",
       "    .dataframe tbody tr th {\n",
       "        vertical-align: top;\n",
       "    }\n",
       "\n",
       "    .dataframe thead th {\n",
       "        text-align: right;\n",
       "    }\n",
       "</style>\n",
       "<table border=\"1\" class=\"dataframe\">\n",
       "  <thead>\n",
       "    <tr style=\"text-align: right;\">\n",
       "      <th></th>\n",
       "      <th>id_prod</th>\n",
       "      <th>price</th>\n",
       "      <th>categ</th>\n",
       "      <th>date</th>\n",
       "      <th>session_id</th>\n",
       "      <th>client_id</th>\n",
       "      <th>hour</th>\n",
       "      <th>year</th>\n",
       "      <th>month</th>\n",
       "      <th>sex</th>\n",
       "      <th>birth</th>\n",
       "      <th>age</th>\n",
       "    </tr>\n",
       "  </thead>\n",
       "  <tbody>\n",
       "    <tr>\n",
       "      <th>0</th>\n",
       "      <td>0_1421</td>\n",
       "      <td>19.99</td>\n",
       "      <td>0</td>\n",
       "      <td>2021-05-12</td>\n",
       "      <td>33709</td>\n",
       "      <td>7954</td>\n",
       "      <td>23:26:29</td>\n",
       "      <td>2021</td>\n",
       "      <td>05</td>\n",
       "      <td>m</td>\n",
       "      <td>1973</td>\n",
       "      <td>49</td>\n",
       "    </tr>\n",
       "    <tr>\n",
       "      <th>1</th>\n",
       "      <td>0_1142</td>\n",
       "      <td>3.42</td>\n",
       "      <td>0</td>\n",
       "      <td>2021-03-24</td>\n",
       "      <td>10590</td>\n",
       "      <td>7954</td>\n",
       "      <td>00:54:59</td>\n",
       "      <td>2021</td>\n",
       "      <td>03</td>\n",
       "      <td>m</td>\n",
       "      <td>1973</td>\n",
       "      <td>49</td>\n",
       "    </tr>\n",
       "    <tr>\n",
       "      <th>2</th>\n",
       "      <td>0_1446</td>\n",
       "      <td>8.09</td>\n",
       "      <td>0</td>\n",
       "      <td>2021-11-26</td>\n",
       "      <td>125461</td>\n",
       "      <td>7954</td>\n",
       "      <td>18:04:33</td>\n",
       "      <td>2021</td>\n",
       "      <td>11</td>\n",
       "      <td>m</td>\n",
       "      <td>1973</td>\n",
       "      <td>49</td>\n",
       "    </tr>\n",
       "    <tr>\n",
       "      <th>3</th>\n",
       "      <td>0_2291</td>\n",
       "      <td>12.99</td>\n",
       "      <td>0</td>\n",
       "      <td>2021-05-29</td>\n",
       "      <td>41299</td>\n",
       "      <td>7954</td>\n",
       "      <td>18:25:02</td>\n",
       "      <td>2021</td>\n",
       "      <td>05</td>\n",
       "      <td>m</td>\n",
       "      <td>1973</td>\n",
       "      <td>49</td>\n",
       "    </tr>\n",
       "    <tr>\n",
       "      <th>4</th>\n",
       "      <td>1_385</td>\n",
       "      <td>25.99</td>\n",
       "      <td>1</td>\n",
       "      <td>2021-06-01</td>\n",
       "      <td>42731</td>\n",
       "      <td>7954</td>\n",
       "      <td>20:41:40</td>\n",
       "      <td>2021</td>\n",
       "      <td>06</td>\n",
       "      <td>m</td>\n",
       "      <td>1973</td>\n",
       "      <td>49</td>\n",
       "    </tr>\n",
       "  </tbody>\n",
       "</table>\n",
       "</div>"
      ],
      "text/plain": [
       "  id_prod  price  categ        date session_id client_id      hour  year  \\\n",
       "0  0_1421  19.99      0  2021-05-12      33709      7954  23:26:29  2021   \n",
       "1  0_1142   3.42      0  2021-03-24      10590      7954  00:54:59  2021   \n",
       "2  0_1446   8.09      0  2021-11-26     125461      7954  18:04:33  2021   \n",
       "3  0_2291  12.99      0  2021-05-29      41299      7954  18:25:02  2021   \n",
       "4   1_385  25.99      1  2021-06-01      42731      7954  20:41:40  2021   \n",
       "\n",
       "  month sex  birth  age  \n",
       "0    05   m   1973   49  \n",
       "1    03   m   1973   49  \n",
       "2    11   m   1973   49  \n",
       "3    05   m   1973   49  \n",
       "4    06   m   1973   49  "
      ]
     },
     "execution_count": 76,
     "metadata": {},
     "output_type": "execute_result"
    }
   ],
   "source": [
    "# On crée une nouvelle table via celle des revenues pour y ajouter les infos clients\n",
    "df_revenues_c=pd.merge(df_revenues,df_csts,on='client_id')\n",
    "df_revenues_c.head()"
   ]
  },
  {
   "cell_type": "code",
   "execution_count": 77,
   "metadata": {},
   "outputs": [
    {
     "data": {
      "text/html": [
       "<div>\n",
       "<style scoped>\n",
       "    .dataframe tbody tr th:only-of-type {\n",
       "        vertical-align: middle;\n",
       "    }\n",
       "\n",
       "    .dataframe tbody tr th {\n",
       "        vertical-align: top;\n",
       "    }\n",
       "\n",
       "    .dataframe thead th {\n",
       "        text-align: right;\n",
       "    }\n",
       "</style>\n",
       "<table border=\"1\" class=\"dataframe\">\n",
       "  <thead>\n",
       "    <tr style=\"text-align: right;\">\n",
       "      <th></th>\n",
       "      <th>sex</th>\n",
       "      <th>categ</th>\n",
       "      <th>expenses</th>\n",
       "    </tr>\n",
       "  </thead>\n",
       "  <tbody>\n",
       "    <tr>\n",
       "      <th>0</th>\n",
       "      <td>f</td>\n",
       "      <td>0</td>\n",
       "      <td>1104169.77</td>\n",
       "    </tr>\n",
       "    <tr>\n",
       "      <th>3</th>\n",
       "      <td>m</td>\n",
       "      <td>0</td>\n",
       "      <td>1126761.07</td>\n",
       "    </tr>\n",
       "    <tr>\n",
       "      <th>1</th>\n",
       "      <td>f</td>\n",
       "      <td>1</td>\n",
       "      <td>1137856.49</td>\n",
       "    </tr>\n",
       "    <tr>\n",
       "      <th>4</th>\n",
       "      <td>m</td>\n",
       "      <td>1</td>\n",
       "      <td>1109527.92</td>\n",
       "    </tr>\n",
       "    <tr>\n",
       "      <th>2</th>\n",
       "      <td>f</td>\n",
       "      <td>2</td>\n",
       "      <td>617799.31</td>\n",
       "    </tr>\n",
       "    <tr>\n",
       "      <th>5</th>\n",
       "      <td>m</td>\n",
       "      <td>2</td>\n",
       "      <td>701671.40</td>\n",
       "    </tr>\n",
       "  </tbody>\n",
       "</table>\n",
       "</div>"
      ],
      "text/plain": [
       "  sex  categ    expenses\n",
       "0   f      0  1104169.77\n",
       "3   m      0  1126761.07\n",
       "1   f      1  1137856.49\n",
       "4   m      1  1109527.92\n",
       "2   f      2   617799.31\n",
       "5   m      2   701671.40"
      ]
     },
     "execution_count": 77,
     "metadata": {},
     "output_type": "execute_result"
    }
   ],
   "source": [
    "df_revbysexe=df_revenues_c.groupby(['sex','categ'])['price'].sum().reset_index()\n",
    "df_revbysexe.rename(columns={'price':'expenses'}, inplace=True)\n",
    "df_revbysexe.sort_values(by=['categ'])"
   ]
  },
  {
   "cell_type": "code",
   "execution_count": 78,
   "metadata": {},
   "outputs": [
    {
     "data": {
      "text/html": [
       "<div>\n",
       "<style scoped>\n",
       "    .dataframe tbody tr th:only-of-type {\n",
       "        vertical-align: middle;\n",
       "    }\n",
       "\n",
       "    .dataframe tbody tr th {\n",
       "        vertical-align: top;\n",
       "    }\n",
       "\n",
       "    .dataframe thead th {\n",
       "        text-align: right;\n",
       "    }\n",
       "</style>\n",
       "<table border=\"1\" class=\"dataframe\">\n",
       "  <thead>\n",
       "    <tr style=\"text-align: right;\">\n",
       "      <th>sex</th>\n",
       "      <th>f</th>\n",
       "      <th>m</th>\n",
       "    </tr>\n",
       "    <tr>\n",
       "      <th>categ</th>\n",
       "      <th></th>\n",
       "      <th></th>\n",
       "    </tr>\n",
       "  </thead>\n",
       "  <tbody>\n",
       "    <tr>\n",
       "      <th>0</th>\n",
       "      <td>1104169.77</td>\n",
       "      <td>1126761.07</td>\n",
       "    </tr>\n",
       "    <tr>\n",
       "      <th>1</th>\n",
       "      <td>1137856.49</td>\n",
       "      <td>1109527.92</td>\n",
       "    </tr>\n",
       "    <tr>\n",
       "      <th>2</th>\n",
       "      <td>617799.31</td>\n",
       "      <td>701671.40</td>\n",
       "    </tr>\n",
       "  </tbody>\n",
       "</table>\n",
       "</div>"
      ],
      "text/plain": [
       "sex             f           m\n",
       "categ                        \n",
       "0      1104169.77  1126761.07\n",
       "1      1137856.49  1109527.92\n",
       "2       617799.31   701671.40"
      ]
     },
     "execution_count": 78,
     "metadata": {},
     "output_type": "execute_result"
    }
   ],
   "source": [
    "# On fait le pivot pour obtenir les dépenses par catégorie selon le sexe\n",
    "df_revbysexe=df_revbysexe.pivot_table(index='categ', columns='sex', values='expenses', fill_value=0)\n",
    "df_revbysexe"
   ]
  },
  {
   "cell_type": "code",
   "execution_count": 79,
   "metadata": {},
   "outputs": [
    {
     "data": {
      "text/plain": [
       "<matplotlib.axes._subplots.AxesSubplot at 0x1c21960940>"
      ]
     },
     "execution_count": 79,
     "metadata": {},
     "output_type": "execute_result"
    },
    {
     "data": {
      "image/png": "[encoded data removed]",
      "text/plain": [
       "<Figure size 576x576 with 1 Axes>"
      ]
     },
     "metadata": {},
     "output_type": "display_data"
    }
   ],
   "source": [
    "df_revbysexe.plot(kind=\"bar\",figsize=(8,8),stacked=False)"
   ]
  },
  {
   "cell_type": "markdown",
   "metadata": {},
   "source": [
    "# Dépenses par catégrie de produit selon l'âge des clients"
   ]
  },
  {
   "cell_type": "code",
   "execution_count": 80,
   "metadata": {},
   "outputs": [
    {
     "data": {
      "text/html": [
       "<div>\n",
       "<style scoped>\n",
       "    .dataframe tbody tr th:only-of-type {\n",
       "        vertical-align: middle;\n",
       "    }\n",
       "\n",
       "    .dataframe tbody tr th {\n",
       "        vertical-align: top;\n",
       "    }\n",
       "\n",
       "    .dataframe thead th {\n",
       "        text-align: right;\n",
       "    }\n",
       "</style>\n",
       "<table border=\"1\" class=\"dataframe\">\n",
       "  <thead>\n",
       "    <tr style=\"text-align: right;\">\n",
       "      <th></th>\n",
       "      <th>age</th>\n",
       "      <th>categ</th>\n",
       "      <th>expenses</th>\n",
       "    </tr>\n",
       "  </thead>\n",
       "  <tbody>\n",
       "    <tr>\n",
       "      <th>0</th>\n",
       "      <td>18</td>\n",
       "      <td>0</td>\n",
       "      <td>17619.77</td>\n",
       "    </tr>\n",
       "    <tr>\n",
       "      <th>1</th>\n",
       "      <td>18</td>\n",
       "      <td>1</td>\n",
       "      <td>56924.91</td>\n",
       "    </tr>\n",
       "    <tr>\n",
       "      <th>2</th>\n",
       "      <td>18</td>\n",
       "      <td>2</td>\n",
       "      <td>220843.30</td>\n",
       "    </tr>\n",
       "    <tr>\n",
       "      <th>3</th>\n",
       "      <td>19</td>\n",
       "      <td>0</td>\n",
       "      <td>5199.48</td>\n",
       "    </tr>\n",
       "    <tr>\n",
       "      <th>4</th>\n",
       "      <td>19</td>\n",
       "      <td>1</td>\n",
       "      <td>16772.25</td>\n",
       "    </tr>\n",
       "  </tbody>\n",
       "</table>\n",
       "</div>"
      ],
      "text/plain": [
       "   age  categ   expenses\n",
       "0   18      0   17619.77\n",
       "1   18      1   56924.91\n",
       "2   18      2  220843.30\n",
       "3   19      0    5199.48\n",
       "4   19      1   16772.25"
      ]
     },
     "execution_count": 80,
     "metadata": {},
     "output_type": "execute_result"
    }
   ],
   "source": [
    "# on crée la table nécessaire\n",
    "df_revbyage=df_revenues_c.groupby(['age','categ'])['price'].sum().reset_index()\n",
    "df_revbyage.rename(columns={'price':'expenses'}, inplace=True)\n",
    "df_revbyage.head()"
   ]
  },
  {
   "cell_type": "code",
   "execution_count": 81,
   "metadata": {},
   "outputs": [
    {
     "data": {
      "text/html": [
       "<div>\n",
       "<style scoped>\n",
       "    .dataframe tbody tr th:only-of-type {\n",
       "        vertical-align: middle;\n",
       "    }\n",
       "\n",
       "    .dataframe tbody tr th {\n",
       "        vertical-align: top;\n",
       "    }\n",
       "\n",
       "    .dataframe thead th {\n",
       "        text-align: right;\n",
       "    }\n",
       "</style>\n",
       "<table border=\"1\" class=\"dataframe\">\n",
       "  <thead>\n",
       "    <tr style=\"text-align: right;\">\n",
       "      <th></th>\n",
       "      <th>age category</th>\n",
       "      <th>expenses</th>\n",
       "    </tr>\n",
       "  </thead>\n",
       "  <tbody>\n",
       "    <tr>\n",
       "      <th>0</th>\n",
       "      <td>&lt;25</td>\n",
       "      <td>1064825.07</td>\n",
       "    </tr>\n",
       "    <tr>\n",
       "      <th>1</th>\n",
       "      <td>25-35</td>\n",
       "      <td>1156227.61</td>\n",
       "    </tr>\n",
       "    <tr>\n",
       "      <th>2</th>\n",
       "      <td>35-45</td>\n",
       "      <td>1539257.35</td>\n",
       "    </tr>\n",
       "    <tr>\n",
       "      <th>3</th>\n",
       "      <td>45-55</td>\n",
       "      <td>1056932.22</td>\n",
       "    </tr>\n",
       "    <tr>\n",
       "      <th>4</th>\n",
       "      <td>&gt;55</td>\n",
       "      <td>980543.71</td>\n",
       "    </tr>\n",
       "  </tbody>\n",
       "</table>\n",
       "</div>"
      ],
      "text/plain": [
       "  age category    expenses\n",
       "0          <25  1064825.07\n",
       "1        25-35  1156227.61\n",
       "2        35-45  1539257.35\n",
       "3        45-55  1056932.22\n",
       "4          >55   980543.71"
      ]
     },
     "execution_count": 81,
     "metadata": {},
     "output_type": "execute_result"
    }
   ],
   "source": [
    "# On crée des catégories selon les ages afin d'estimer la part des revenues\n",
    "df_revbyage['age category'] = pd.cut(df_revbyage['age'], [17,25,35,45,55,94], labels=['<25','25-35','35-45','45-55','>55'])\n",
    "df_revbyage_tot=df_revbyage.groupby(['age category'])['expenses'].sum().reset_index()\n",
    "df_revbyage_tot.sort_values(by=['age category']).head()"
   ]
  },
  {
   "cell_type": "code",
   "execution_count": 82,
   "metadata": {},
   "outputs": [
    {
     "data": {
      "text/html": [
       "<div>\n",
       "<style scoped>\n",
       "    .dataframe tbody tr th:only-of-type {\n",
       "        vertical-align: middle;\n",
       "    }\n",
       "\n",
       "    .dataframe tbody tr th {\n",
       "        vertical-align: top;\n",
       "    }\n",
       "\n",
       "    .dataframe thead th {\n",
       "        text-align: right;\n",
       "    }\n",
       "</style>\n",
       "<table border=\"1\" class=\"dataframe\">\n",
       "  <thead>\n",
       "    <tr style=\"text-align: right;\">\n",
       "      <th>categ</th>\n",
       "      <th>0</th>\n",
       "      <th>1</th>\n",
       "      <th>2</th>\n",
       "    </tr>\n",
       "    <tr>\n",
       "      <th>age category</th>\n",
       "      <th></th>\n",
       "      <th></th>\n",
       "      <th></th>\n",
       "    </tr>\n",
       "  </thead>\n",
       "  <tbody>\n",
       "    <tr>\n",
       "      <th>&lt;25</th>\n",
       "      <td>57608.37</td>\n",
       "      <td>194978.75</td>\n",
       "      <td>812237.95</td>\n",
       "    </tr>\n",
       "    <tr>\n",
       "      <th>25-35</th>\n",
       "      <td>425159.03</td>\n",
       "      <td>319772.78</td>\n",
       "      <td>411295.80</td>\n",
       "    </tr>\n",
       "    <tr>\n",
       "      <th>35-45</th>\n",
       "      <td>968213.19</td>\n",
       "      <td>546891.52</td>\n",
       "      <td>24152.64</td>\n",
       "    </tr>\n",
       "    <tr>\n",
       "      <th>45-55</th>\n",
       "      <td>500523.24</td>\n",
       "      <td>521715.12</td>\n",
       "      <td>34693.86</td>\n",
       "    </tr>\n",
       "    <tr>\n",
       "      <th>&gt;55</th>\n",
       "      <td>279427.01</td>\n",
       "      <td>664026.24</td>\n",
       "      <td>37090.46</td>\n",
       "    </tr>\n",
       "  </tbody>\n",
       "</table>\n",
       "</div>"
      ],
      "text/plain": [
       "categ                 0          1          2\n",
       "age category                                 \n",
       "<25            57608.37  194978.75  812237.95\n",
       "25-35         425159.03  319772.78  411295.80\n",
       "35-45         968213.19  546891.52   24152.64\n",
       "45-55         500523.24  521715.12   34693.86\n",
       ">55           279427.01  664026.24   37090.46"
      ]
     },
     "execution_count": 82,
     "metadata": {},
     "output_type": "execute_result"
    }
   ],
   "source": [
    "# on regarde le détail des dépenses par catégories de produits\n",
    "df_revbyage_catp=df_revbyage.groupby(['age category','categ'])['expenses'].sum().reset_index()\n",
    "df_revbyage_catp=df_revbyage_catp.pivot_table(index='age category', columns='categ', values='expenses', fill_value=0)\n",
    "df_revbyage_catp=df_revbyage_catp.reset_index()\n",
    "df_revbyage_catp=df_revbyage_catp.set_index('age category')\n",
    "df_revbyage_catp"
   ]
  },
  {
   "cell_type": "code",
   "execution_count": 83,
   "metadata": {},
   "outputs": [
    {
     "data": {
      "text/plain": [
       "<matplotlib.axes._subplots.AxesSubplot at 0x1c229027b8>"
      ]
     },
     "execution_count": 83,
     "metadata": {},
     "output_type": "execute_result"
    },
    {
     "data": {
      "image/png": "[encoded data removed]",
      "text/plain": [
       "<Figure size 720x720 with 1 Axes>"
      ]
     },
     "metadata": {},
     "output_type": "display_data"
    }
   ],
   "source": [
    "# on fait le graph en question\n",
    "df_revbyage_catp.plot(kind=\"bar\",figsize=(10,10),stacked=True)"
   ]
  },
  {
   "cell_type": "code",
   "execution_count": 84,
   "metadata": {},
   "outputs": [
    {
     "data": {
      "image/png": "[encoded data removed]",
      "text/plain": [
       "<Figure size 432x288 with 1 Axes>"
      ]
     },
     "metadata": {},
     "output_type": "display_data"
    }
   ],
   "source": [
    "Boxp = sns.boxplot(x=\"age category\", y=\"expenses\", data=df_revbyage)"
   ]
  },
  {
   "cell_type": "markdown",
   "metadata": {},
   "source": [
    "# Mission n°3"
   ]
  },
  {
   "cell_type": "markdown",
   "metadata": {},
   "source": [
    "# Correlation en le sexe et la catégorie de produit acheté"
   ]
  },
  {
   "cell_type": "code",
   "execution_count": 85,
   "metadata": {},
   "outputs": [],
   "source": [
    "df_revenues_for_c=df_revenues_c[(df_revenues_c['month']!='10')]\n",
    "df_revenues_for_c=df_revenues_for_c[(df_revenues_for_c['age']!=18)]\n",
    "df_revenues_for_c=df_revenues_for_c[(df_revenues_for_c['client_id']!=3454|6714|4958|1609)]"
   ]
  },
  {
   "cell_type": "code",
   "execution_count": 86,
   "metadata": {},
   "outputs": [
    {
     "data": {
      "text/html": [
       "<div>\n",
       "<style scoped>\n",
       "    .dataframe tbody tr th:only-of-type {\n",
       "        vertical-align: middle;\n",
       "    }\n",
       "\n",
       "    .dataframe tbody tr th {\n",
       "        vertical-align: top;\n",
       "    }\n",
       "\n",
       "    .dataframe thead th {\n",
       "        text-align: right;\n",
       "    }\n",
       "</style>\n",
       "<table border=\"1\" class=\"dataframe\">\n",
       "  <thead>\n",
       "    <tr style=\"text-align: right;\">\n",
       "      <th>categ</th>\n",
       "      <th>0</th>\n",
       "      <th>1</th>\n",
       "      <th>2</th>\n",
       "      <th>Total</th>\n",
       "    </tr>\n",
       "    <tr>\n",
       "      <th>sex</th>\n",
       "      <th></th>\n",
       "      <th></th>\n",
       "      <th></th>\n",
       "      <th></th>\n",
       "    </tr>\n",
       "  </thead>\n",
       "  <tbody>\n",
       "    <tr>\n",
       "      <th>f</th>\n",
       "      <td>93863.0</td>\n",
       "      <td>53265.0</td>\n",
       "      <td>6309.0</td>\n",
       "      <td>153437.0</td>\n",
       "    </tr>\n",
       "    <tr>\n",
       "      <th>m</th>\n",
       "      <td>95374.0</td>\n",
       "      <td>52093.0</td>\n",
       "      <td>7358.0</td>\n",
       "      <td>154825.0</td>\n",
       "    </tr>\n",
       "    <tr>\n",
       "      <th>total</th>\n",
       "      <td>189237.0</td>\n",
       "      <td>105358.0</td>\n",
       "      <td>13667.0</td>\n",
       "      <td>336816.0</td>\n",
       "    </tr>\n",
       "  </tbody>\n",
       "</table>\n",
       "</div>"
      ],
      "text/plain": [
       "categ         0         1        2     Total\n",
       "sex                                         \n",
       "f       93863.0   53265.0   6309.0  153437.0\n",
       "m       95374.0   52093.0   7358.0  154825.0\n",
       "total  189237.0  105358.0  13667.0  336816.0"
      ]
     },
     "execution_count": 86,
     "metadata": {},
     "output_type": "execute_result"
    }
   ],
   "source": [
    "# Contingency table\n",
    "X = \"sex\"\n",
    "Y = \"categ\"\n",
    "\n",
    "frequency_table = df_revenues_for_c[[X, Y]].pivot_table(\n",
    "    index=X, columns=Y, aggfunc=len)  # The frequency table without total\n",
    "cont = frequency_table.copy()\n",
    "\n",
    "# We count the number of men and women\n",
    "tx = df_revenues_for_c[X].value_counts()\n",
    "# We count the number of transactions in categ 0, 1, 2\n",
    "ty = df_revenues_for_c[Y].value_counts()\n",
    "\n",
    "# We add the totals\n",
    "cont.loc[:, \"Total\"] = tx\n",
    "cont.loc[\"total\",:]  = ty\n",
    "cont.loc[\"total\", \"Total\"] = len(df_revenues_c)\n",
    "cont"
   ]
  },
  {
   "cell_type": "code",
   "execution_count": 87,
   "metadata": {},
   "outputs": [
    {
     "data": {
      "text/plain": [
       "2.643312713717522e-22"
      ]
     },
     "execution_count": 87,
     "metadata": {},
     "output_type": "execute_result"
    }
   ],
   "source": [
    "# We calculate the values.\n",
    "tx = pd.DataFrame(tx)\n",
    "ty = pd.DataFrame(ty)\n",
    "tx.columns = [\"foo\"]\n",
    "ty.columns = [\"foo\"]\n",
    "n = len(df_revenues_for_c)\n",
    "indep = tx.dot(ty.T) / n  # Table if the sex does not play a role, HO True.\n",
    "mesure = (frequency_table-indep)**2/indep  # mesurecontains the X² by cell.\n",
    "X2STAT = mesure.sum().sum()  # Value X²\n",
    "# p_value\n",
    "# Probability than the test statistic is equal or more extreme than the sample result, given H0 True.\n",
    "p_value = scipy.stats.chi2.sf(X2STAT, df=2)\n",
    "p_value"
   ]
  },
  {
   "cell_type": "code",
   "execution_count": 88,
   "metadata": {},
   "outputs": [
    {
     "data": {
      "text/html": [
       "<div>\n",
       "<style scoped>\n",
       "    .dataframe tbody tr th:only-of-type {\n",
       "        vertical-align: middle;\n",
       "    }\n",
       "\n",
       "    .dataframe tbody tr th {\n",
       "        vertical-align: top;\n",
       "    }\n",
       "\n",
       "    .dataframe thead th {\n",
       "        text-align: right;\n",
       "    }\n",
       "</style>\n",
       "<table border=\"1\" class=\"dataframe\">\n",
       "  <thead>\n",
       "    <tr style=\"text-align: right;\">\n",
       "      <th></th>\n",
       "      <th>0</th>\n",
       "      <th>1</th>\n",
       "      <th>2</th>\n",
       "    </tr>\n",
       "  </thead>\n",
       "  <tbody>\n",
       "    <tr>\n",
       "      <th>m</th>\n",
       "      <td>95044.535249</td>\n",
       "      <td>52916.195801</td>\n",
       "      <td>6864.26895</td>\n",
       "    </tr>\n",
       "    <tr>\n",
       "      <th>f</th>\n",
       "      <td>94192.464751</td>\n",
       "      <td>52441.804199</td>\n",
       "      <td>6802.73105</td>\n",
       "    </tr>\n",
       "  </tbody>\n",
       "</table>\n",
       "</div>"
      ],
      "text/plain": [
       "              0             1           2\n",
       "m  95044.535249  52916.195801  6864.26895\n",
       "f  94192.464751  52441.804199  6802.73105"
      ]
     },
     "execution_count": 88,
     "metadata": {},
     "output_type": "execute_result"
    }
   ],
   "source": [
    "indep"
   ]
  },
  {
   "cell_type": "code",
   "execution_count": 89,
   "metadata": {},
   "outputs": [
    {
     "data": {
      "image/png": "[encoded data removed]",
      "text/plain": [
       "<Figure size 432x288 with 2 Axes>"
      ]
     },
     "metadata": {},
     "output_type": "display_data"
    }
   ],
   "source": [
    "# heat map\n",
    "f, ax = plt.subplots()\n",
    "sns_plot = sns.heatmap(mesure/X2STAT, annot=frequency_table, fmt='g')\n",
    "\n",
    "# Titre\n",
    "titre = \"Heatmap\\n sexe vs categories\"\n",
    "title = plt.title(titre, fontsize=17)\n",
    "\n",
    "# Labels\n",
    "ax.set_ylabel('Sex', fontsize=16)\n",
    "ax.set_xlabel('Category', fontsize=16)\n",
    "\n",
    "# Ticks\n",
    "ax.tick_params(labelsize=15)\n",
    "\n",
    "plt.show()"
   ]
  },
  {
   "cell_type": "markdown",
   "metadata": {},
   "source": [
    "# Correlation en l'age et le montant total dépensé"
   ]
  },
  {
   "cell_type": "code",
   "execution_count": 90,
   "metadata": {},
   "outputs": [
    {
     "data": {
      "text/html": [
       "<div>\n",
       "<style scoped>\n",
       "    .dataframe tbody tr th:only-of-type {\n",
       "        vertical-align: middle;\n",
       "    }\n",
       "\n",
       "    .dataframe tbody tr th {\n",
       "        vertical-align: top;\n",
       "    }\n",
       "\n",
       "    .dataframe thead th {\n",
       "        text-align: right;\n",
       "    }\n",
       "</style>\n",
       "<table border=\"1\" class=\"dataframe\">\n",
       "  <thead>\n",
       "    <tr style=\"text-align: right;\">\n",
       "      <th></th>\n",
       "      <th>age</th>\n",
       "      <th>price</th>\n",
       "    </tr>\n",
       "  </thead>\n",
       "  <tbody>\n",
       "    <tr>\n",
       "      <th>age</th>\n",
       "      <td>1.000000</td>\n",
       "      <td>-0.174071</td>\n",
       "    </tr>\n",
       "    <tr>\n",
       "      <th>price</th>\n",
       "      <td>-0.174071</td>\n",
       "      <td>1.000000</td>\n",
       "    </tr>\n",
       "  </tbody>\n",
       "</table>\n",
       "</div>"
      ],
      "text/plain": [
       "            age     price\n",
       "age    1.000000 -0.174071\n",
       "price -0.174071  1.000000"
      ]
     },
     "execution_count": 90,
     "metadata": {},
     "output_type": "execute_result"
    }
   ],
   "source": [
    "# on regarde le coefficient de correlation\n",
    "df_revenues_for_c[['age', 'price']].corr()"
   ]
  },
  {
   "cell_type": "code",
   "execution_count": 91,
   "metadata": {},
   "outputs": [
    {
     "name": "stdout",
     "output_type": "stream",
     "text": [
      "                            OLS Regression Results                            \n",
      "==============================================================================\n",
      "Dep. Variable:                  price   R-squared:                       0.030\n",
      "Model:                            OLS   Adj. R-squared:                  0.030\n",
      "Method:                 Least Squares   F-statistic:                     9632.\n",
      "Date:                Thu, 08 Nov 2018   Prob (F-statistic):               0.00\n",
      "Time:                        17:36:39   Log-Likelihood:            -1.3020e+06\n",
      "No. Observations:              308262   AIC:                         2.604e+06\n",
      "Df Residuals:                  308260   BIC:                         2.604e+06\n",
      "Df Model:                           1                                         \n",
      "Covariance Type:            nonrobust                                         \n",
      "==============================================================================\n",
      "                 coef    std err          t      P>|t|      [0.025      0.975]\n",
      "------------------------------------------------------------------------------\n",
      "age           -0.2218      0.002    -98.144      0.000      -0.226      -0.217\n",
      "intercept     26.8182      0.106    253.880      0.000      26.611      27.025\n",
      "==============================================================================\n",
      "Omnibus:                   331958.963   Durbin-Watson:                   1.395\n",
      "Prob(Omnibus):                  0.000   Jarque-Bera (JB):         32083288.080\n",
      "Skew:                           5.443   Prob(JB):                         0.00\n",
      "Kurtosis:                      51.779   Cond. No.                         166.\n",
      "==============================================================================\n",
      "\n",
      "Warnings:\n",
      "[1] Standard Errors assume that the covariance matrix of the errors is correctly specified.\n"
     ]
    }
   ],
   "source": [
    "# On va utiliser statsmodels\n",
    "Y = df_revenues_for_c[\"price\"]\n",
    "X = df_revenues_for_c[[\"age\"]]\n",
    "X1 = X.copy()\n",
    "\n",
    "X1[\"intercept\"] = 1.\n",
    "results = sm.OLS(Y, X1).fit()\n",
    "a1, b1 = results.params[\"age\"], results.params[\"intercept\"]\n",
    "print(results.summary())"
   ]
  },
  {
   "cell_type": "code",
   "execution_count": 92,
   "metadata": {},
   "outputs": [
    {
     "data": {
      "image/png": "[encoded data removed]",
      "text/plain": [
       "<Figure size 432x288 with 1 Axes>"
      ]
     },
     "metadata": {},
     "output_type": "display_data"
    }
   ],
   "source": [
    "# On défini le max et le min de la régression\n",
    "min_model = min(df_revenues_for_c.age)\n",
    "max_model = max(df_revenues_for_c.age)\n",
    "\n",
    "# On fait le scatterplot\n",
    "plt.plot(df_revenues_for_c.age, df_revenues_for_c.price, \"o\", alpha=0.3)\n",
    "\n",
    "# on ajoute la droite de régression linéaire\n",
    "plt.plot(np.arange(min_model, max_model), [\n",
    "         a1*x+b1 for x in np.arange(min_model, max_model)], linewidth=4)\n",
    "\n",
    "# Labels\n",
    "label = plt.xlabel(\"Age\", fontsize=15)\n",
    "label = plt.ylabel(\"Revenue\", fontsize=15)\n",
    "plt.tick_params(labelsize=15)\n",
    "\n",
    "\n",
    "titre = \"Relation entre l'âge des clients et le montant dépensé\"\n",
    "title = plt.title(titre, fontsize=17)"
   ]
  },
  {
   "cell_type": "markdown",
   "metadata": {},
   "source": [
    "# Correlation en l'age et le nombre d'achats (par mois)"
   ]
  },
  {
   "cell_type": "code",
   "execution_count": 93,
   "metadata": {},
   "outputs": [],
   "source": [
    "frequency = df_revenues_for_c.copy()\n",
    "frequency[\"frequency\"] = 1\n",
    "# On groupe par client et par age par mois\n",
    "frequency = frequency.groupby([\"client_id\", \"age\", \"month\"])[\n",
    "    [\"frequency\"]].sum()\n",
    "frequency.reset_index(inplace=True)\n",
    "# We group by client_id and calculate the average purchasing frequency.\n",
    "# There are 12 months.\n",
    "frequency = frequency.groupby([\"client_id\", \"age\"])[\"frequency\"].sum()\n",
    "frequency = frequency.reset_index()\n",
    "# We divide by 12 to obtain the frequency by months.\n",
    "frequency.frequency = frequency.frequency/12\n",
    "# We order by frequency\n",
    "frequency=frequency[(frequency['frequency']<16)]\n",
    "frequency.sort_values(inplace=True, by=\"frequency\", ascending=False)"
   ]
  },
  {
   "cell_type": "code",
   "execution_count": 94,
   "metadata": {},
   "outputs": [
    {
     "data": {
      "text/html": [
       "<div>\n",
       "<style scoped>\n",
       "    .dataframe tbody tr th:only-of-type {\n",
       "        vertical-align: middle;\n",
       "    }\n",
       "\n",
       "    .dataframe tbody tr th {\n",
       "        vertical-align: top;\n",
       "    }\n",
       "\n",
       "    .dataframe thead th {\n",
       "        text-align: right;\n",
       "    }\n",
       "</style>\n",
       "<table border=\"1\" class=\"dataframe\">\n",
       "  <thead>\n",
       "    <tr style=\"text-align: right;\">\n",
       "      <th></th>\n",
       "      <th>client_id</th>\n",
       "      <th>age</th>\n",
       "      <th>frequency</th>\n",
       "    </tr>\n",
       "  </thead>\n",
       "  <tbody>\n",
       "    <tr>\n",
       "      <th>7397</th>\n",
       "      <td>8026</td>\n",
       "      <td>44</td>\n",
       "      <td>15.333333</td>\n",
       "    </tr>\n",
       "    <tr>\n",
       "      <th>1686</th>\n",
       "      <td>2595</td>\n",
       "      <td>48</td>\n",
       "      <td>14.916667</td>\n",
       "    </tr>\n",
       "    <tr>\n",
       "      <th>6768</th>\n",
       "      <td>7421</td>\n",
       "      <td>44</td>\n",
       "      <td>14.833333</td>\n",
       "    </tr>\n",
       "    <tr>\n",
       "      <th>5192</th>\n",
       "      <td>5922</td>\n",
       "      <td>45</td>\n",
       "      <td>14.750000</td>\n",
       "    </tr>\n",
       "    <tr>\n",
       "      <th>2389</th>\n",
       "      <td>3263</td>\n",
       "      <td>37</td>\n",
       "      <td>14.750000</td>\n",
       "    </tr>\n",
       "  </tbody>\n",
       "</table>\n",
       "</div>"
      ],
      "text/plain": [
       "     client_id  age  frequency\n",
       "7397      8026   44  15.333333\n",
       "1686      2595   48  14.916667\n",
       "6768      7421   44  14.833333\n",
       "5192      5922   45  14.750000\n",
       "2389      3263   37  14.750000"
      ]
     },
     "execution_count": 94,
     "metadata": {},
     "output_type": "execute_result"
    }
   ],
   "source": [
    "frequency.head()"
   ]
  },
  {
   "cell_type": "code",
   "execution_count": 95,
   "metadata": {},
   "outputs": [
    {
     "name": "stdout",
     "output_type": "stream",
     "text": [
      "                            OLS Regression Results                            \n",
      "==============================================================================\n",
      "Dep. Variable:              frequency   R-squared:                       0.000\n",
      "Model:                            OLS   Adj. R-squared:                  0.000\n",
      "Method:                 Least Squares   F-statistic:                     1.463\n",
      "Date:                Thu, 08 Nov 2018   Prob (F-statistic):              0.226\n",
      "Time:                        17:36:41   Log-Likelihood:                -19487.\n",
      "No. Observations:                8157   AIC:                         3.898e+04\n",
      "Df Residuals:                    8155   BIC:                         3.899e+04\n",
      "Df Model:                           1                                         \n",
      "Covariance Type:            nonrobust                                         \n",
      "==============================================================================\n",
      "                 coef    std err          t      P>|t|      [0.025      0.975]\n",
      "------------------------------------------------------------------------------\n",
      "age           -0.0022      0.002     -1.210      0.226      -0.006       0.001\n",
      "intercept      3.0265      0.086     35.096      0.000       2.857       3.196\n",
      "==============================================================================\n",
      "Omnibus:                     2477.266   Durbin-Watson:                   0.000\n",
      "Prob(Omnibus):                  0.000   Jarque-Bera (JB):             6325.377\n",
      "Skew:                           1.672   Prob(JB):                         0.00\n",
      "Kurtosis:                       5.727   Cond. No.                         142.\n",
      "==============================================================================\n",
      "\n",
      "Warnings:\n",
      "[1] Standard Errors assume that the covariance matrix of the errors is correctly specified.\n"
     ]
    }
   ],
   "source": [
    "Y = frequency[\"frequency\"]\n",
    "X = frequency[[\"age\"]]\n",
    "X1 = X.copy()\n",
    "\n",
    "X1[\"intercept\"] = 1.\n",
    "# Fit regression model\n",
    "results = sm.OLS(Y, X1).fit()\n",
    "# Inspect the results\n",
    "print(results.summary())\n",
    "# Save the results to then draw the model\n",
    "a2, b2 = results.params[\"age\"], results.params[\"intercept\"]"
   ]
  },
  {
   "cell_type": "code",
   "execution_count": 96,
   "metadata": {},
   "outputs": [
    {
     "data": {
      "image/png": "[encoded data removed]",
      "text/plain": [
       "<Figure size 432x288 with 1 Axes>"
      ]
     },
     "metadata": {},
     "output_type": "display_data"
    }
   ],
   "source": [
    "# Use statsmodels.api\n",
    "# We plot the scatter plot\n",
    "plt.plot(frequency.age, frequency.frequency, \"o\", alpha=0.3)\n",
    "\n",
    "# We draw the liner regression model\n",
    "plt.plot(np.arange(min_model, max_model), [\n",
    "         a2*x+b2 for x in np.arange(min_model, max_model)], linewidth=4)\n",
    "\n",
    "# Labels\n",
    "label = plt.xlabel(\"Age\", fontsize=15)\n",
    "label = plt.ylabel(\"Monthly frequency\", fontsize=15)\n",
    "plt.tick_params(labelsize=15)\n",
    "\n",
    "# We define the title of the axes.\n",
    "titre = \"Relation between the age of the customers\\n and their monthly purchasing frequency\"\n",
    "title = plt.title(titre, fontsize=17)"
   ]
  },
  {
   "cell_type": "code",
   "execution_count": 97,
   "metadata": {},
   "outputs": [],
   "source": [
    "frequency30=frequency[(frequency['age']>30)]"
   ]
  },
  {
   "cell_type": "code",
   "execution_count": 98,
   "metadata": {},
   "outputs": [
    {
     "name": "stdout",
     "output_type": "stream",
     "text": [
      "                            OLS Regression Results                            \n",
      "==============================================================================\n",
      "Dep. Variable:              frequency   R-squared:                       0.129\n",
      "Model:                            OLS   Adj. R-squared:                  0.129\n",
      "Method:                 Least Squares   F-statistic:                     938.0\n",
      "Date:                Thu, 08 Nov 2018   Prob (F-statistic):          3.27e-192\n",
      "Time:                        17:36:42   Log-Likelihood:                -15021.\n",
      "No. Observations:                6328   AIC:                         3.005e+04\n",
      "Df Residuals:                    6326   BIC:                         3.006e+04\n",
      "Df Model:                           1                                         \n",
      "Covariance Type:            nonrobust                                         \n",
      "==============================================================================\n",
      "                 coef    std err          t      P>|t|      [0.025      0.975]\n",
      "------------------------------------------------------------------------------\n",
      "age           -0.0742      0.002    -30.627      0.000      -0.079      -0.069\n",
      "intercept      7.1971      0.128     56.319      0.000       6.947       7.448\n",
      "==============================================================================\n",
      "Omnibus:                     1152.139   Durbin-Watson:                   0.256\n",
      "Prob(Omnibus):                  0.000   Jarque-Bera (JB):             1990.047\n",
      "Skew:                           1.183   Prob(JB):                         0.00\n",
      "Kurtosis:                       4.396   Cond. No.                         206.\n",
      "==============================================================================\n",
      "\n",
      "Warnings:\n",
      "[1] Standard Errors assume that the covariance matrix of the errors is correctly specified.\n"
     ]
    }
   ],
   "source": [
    "Y = frequency30[\"frequency\"]\n",
    "X = frequency30[[\"age\"]]\n",
    "X1 = X.copy()\n",
    "\n",
    "X1[\"intercept\"] = 1.\n",
    "# Fit regression model\n",
    "results = sm.OLS(Y, X1).fit()\n",
    "# Inspect the results\n",
    "print(results.summary())\n",
    "# Save the results to then draw the model\n",
    "a2, b2 = results.params[\"age\"], results.params[\"intercept\"]"
   ]
  },
  {
   "cell_type": "code",
   "execution_count": 99,
   "metadata": {},
   "outputs": [
    {
     "data": {
      "image/png": "[encoded data removed]",
      "text/plain": [
       "<Figure size 432x288 with 1 Axes>"
      ]
     },
     "metadata": {},
     "output_type": "display_data"
    }
   ],
   "source": [
    "# Use statsmodels.api\n",
    "# We plot the scatter plot\n",
    "plt.plot(frequency30.age, frequency30.frequency, \"o\", alpha=0.3)\n",
    "\n",
    "# We draw the liner regression model\n",
    "plt.plot(np.arange(30, 93), [\n",
    "         a2*x+b2 for x in np.arange(30, 93)], linewidth=4)\n",
    "\n",
    "# Labels\n",
    "label = plt.xlabel(\"Age\", fontsize=15)\n",
    "label = plt.ylabel(\"Monthly frequency\", fontsize=15)\n",
    "plt.tick_params(labelsize=15)\n",
    "\n",
    "# We define the title of the axes.\n",
    "titre = \"Relation entre l'âge et la fréquence d'achat par mois\"\n",
    "title = plt.title(titre, fontsize=17)"
   ]
  },
  {
   "cell_type": "markdown",
   "metadata": {},
   "source": [
    "# Correlation en l'age et la catégorie de produit achetée"
   ]
  },
  {
   "cell_type": "code",
   "execution_count": 100,
   "metadata": {},
   "outputs": [],
   "source": [
    "age_categ = df_revenues_for_c.copy()\n",
    "age_categ = age_categ.loc[:, [\n",
    "    \"client_id\", \"age\", \"categ\"]]\n",
    "age_categ.sort_values(by=\"client_id\", inplace=True)\n",
    "age_categ.reset_index(inplace=True, drop=True)"
   ]
  },
  {
   "cell_type": "code",
   "execution_count": 101,
   "metadata": {},
   "outputs": [
    {
     "data": {
      "image/png": "[encoded data removed]",
      "text/plain": [
       "<Figure size 432x288 with 1 Axes>"
      ]
     },
     "metadata": {},
     "output_type": "display_data"
    }
   ],
   "source": [
    "fig = plt.figure()\n",
    "# To customize the mean.\n",
    "meanpointprops = dict(marker='D', markeredgecolor='black',\n",
    "                      markerfacecolor='firebrick')\n",
    "\n",
    "ax = sns.boxplot(x=\"age\", y=\"categ\", hue=\"categ\", data=age_categ,\n",
    "                 orient=\"h\", showmeans=True, meanprops=meanpointprops, palette=[\"b\",\"g\",\"r\"])\n",
    "plt.legend(title='Category', loc=(0.8, 0.15))\n",
    "\n",
    "# Axis\n",
    "ax.set_xlabel(\"Age\", fontsize=15)\n",
    "ax.set_ylabel(\"Category\", fontsize=15)\n",
    "\n",
    "ax.tick_params(labelsize=15)\n",
    "\n",
    "\n",
    "# We define the title of the axes.\n",
    "titre = \"Relation between the age and the categories\"\n",
    "title = plt.title(titre, fontsize=17)"
   ]
  },
  {
   "cell_type": "code",
   "execution_count": 102,
   "metadata": {},
   "outputs": [],
   "source": [
    "# We remove the outliers by looking at the age and product they buy.\n",
    "age_categ_out = age_categ.copy()\n",
    "std0 = age_categ_out[age_categ_out[\"categ\"] == 0][\"age\"].std()\n",
    "mean0 = age_categ_out[age_categ_out[\"categ\"] == 0][\"age\"].mean()\n",
    "std1 = age_categ_out[age_categ_out[\"categ\"] == 1][\"age\"].std()\n",
    "mean1 = age_categ_out[age_categ_out[\"categ\"] == 1][\"age\"].mean()\n",
    "std2 = age_categ_out[age_categ_out[\"categ\"] == 2][\"age\"].std()\n",
    "mean2 = age_categ_out[age_categ_out[\"categ\"] == 2][\"age\"].mean()\n",
    "\n",
    "# We calculate the standardized value.\n",
    "age_categ_out[\"standardized\"] = 0\n",
    "age_categ_out.at[age_categ_out[\"categ\"] == 0, \"standardized\"] = (\n",
    "    age_categ_out[age_categ_out[\"categ\"] == 0].loc[:, \"age\"]-mean0)/std0\n",
    "age_categ_out.at[age_categ_out[\"categ\"] == 1, \"standardized\"] = (\n",
    "   age_categ_out[age_categ_out[\"categ\"] == 1].loc[:, \"age\"]-mean1)/std1\n",
    "age_categ_out.at[age_categ_out[\"categ\"] == 2, \"standardized\"] = (\n",
    "    age_categ_out[age_categ_out[\"categ\"] == 2].loc[:, \"age\"]-mean2)/std2\n",
    "# We rank the row according to this value\n",
    "age_categ_out.sort_values(\n",
    "    by=\"standardized\", ascending=False, inplace=True)\n",
    "# We excluded the value that are below or above 3 standard deviation.\n",
    "# 336816 products bought, 3581 exclude.\n",
    "age_categ_out = age_categ_out[(\n",
    "    age_categ_out[\"standardized\"] >= -3) & (age_categ_out[\"standardized\"] <= 3)]"
   ]
  },
  {
   "cell_type": "code",
   "execution_count": 103,
   "metadata": {},
   "outputs": [
    {
     "data": {
      "image/png": "[encoded data removed]",
      "text/plain": [
       "<Figure size 432x288 with 1 Axes>"
      ]
     },
     "metadata": {},
     "output_type": "display_data"
    }
   ],
   "source": [
    "fig = plt.figure()\n",
    "# To customize the mean.\n",
    "meanpointprops = dict(marker='D', markeredgecolor='black',\n",
    "                      markerfacecolor='firebrick')\n",
    "\n",
    "ax = sns.boxplot(x=\"age\", y=\"categ\", hue=\"categ\", data=age_categ_out,\n",
    "                 orient=\"h\", showmeans=True, meanprops=meanpointprops, palette=[\"b\",\"g\",\"r\"])\n",
    "plt.legend(title='Category', loc=(0.8, 0.15))\n",
    "\n",
    "# Axis\n",
    "ax.set_xlabel(\"Age\", fontsize=15)\n",
    "ax.set_ylabel(\"Category\", fontsize=15)\n",
    "\n",
    "ax.tick_params(labelsize=15)\n",
    "\n",
    "\n",
    "# We define the title of the axes.\n",
    "titre = \"Relation entre l'âge et la catégorie\"\n",
    "title = plt.title(titre, fontsize=17)"
   ]
  },
  {
   "cell_type": "code",
   "execution_count": 104,
   "metadata": {},
   "outputs": [
    {
     "name": "stdout",
     "output_type": "stream",
     "text": [
      "                     df        sum_sq       mean_sq             F  PR(>F)\n",
      "C(categ, Sum)       2.0  6.348282e+06  3.174141e+06  22636.071009     0.0\n",
      "Residual       305046.0  4.277505e+07  1.402249e+02           NaN     NaN\n"
     ]
    }
   ],
   "source": [
    "# On fait une ANOVA car on regarde la correlation entre une variable qualitative et une variable quantitative\n",
    "mod = statsmodels.formula.api.ols(\n",
    "    'age ~ C(categ, Sum)', data=age_categ_out).fit()\n",
    "aov_table = sm.stats.anova_lm(mod, typ=1)\n",
    "print(aov_table)"
   ]
  },
  {
   "cell_type": "code",
   "execution_count": 105,
   "metadata": {},
   "outputs": [
    {
     "name": "stdout",
     "output_type": "stream",
     "text": [
      "Correlation Report = 0.13, FSTAT = 22636.07, pvalue = 0.0\n",
      "We reject H0.\n"
     ]
    }
   ],
   "source": [
    "value_eta_squared = aov_table['sum_sq'][0] / \\\n",
    "    (aov_table['sum_sq'][0]+aov_table['sum_sq'][1])\n",
    "FSTAT = aov_table['F'][0]\n",
    "pvalue = aov_table['PR(>F)'][0]\n",
    "print(\"Correlation Report = {}, FSTAT = {}, pvalue = {}\".format(\n",
    "    round(value_eta_squared, 2),\n",
    "    round(FSTAT, 2),\n",
    "    round(pvalue, 2)))\n",
    "print(\"We reject H0.\")"
   ]
  },
  {
   "cell_type": "code",
   "execution_count": 110,
   "metadata": {},
   "outputs": [
    {
     "data": {
      "text/html": [
       "<div>\n",
       "<style scoped>\n",
       "    .dataframe tbody tr th:only-of-type {\n",
       "        vertical-align: middle;\n",
       "    }\n",
       "\n",
       "    .dataframe tbody tr th {\n",
       "        vertical-align: top;\n",
       "    }\n",
       "\n",
       "    .dataframe thead th {\n",
       "        text-align: right;\n",
       "    }\n",
       "</style>\n",
       "<table border=\"1\" class=\"dataframe\">\n",
       "  <thead>\n",
       "    <tr style=\"text-align: right;\">\n",
       "      <th></th>\n",
       "      <th>client_id</th>\n",
       "      <th>age</th>\n",
       "      <th>categ</th>\n",
       "      <th>standardized</th>\n",
       "    </tr>\n",
       "  </thead>\n",
       "  <tbody>\n",
       "    <tr>\n",
       "      <th>151693</th>\n",
       "      <td>477</td>\n",
       "      <td>77</td>\n",
       "      <td>0</td>\n",
       "      <td>2.987005</td>\n",
       "    </tr>\n",
       "    <tr>\n",
       "      <th>35343</th>\n",
       "      <td>1633</td>\n",
       "      <td>77</td>\n",
       "      <td>0</td>\n",
       "      <td>2.987005</td>\n",
       "    </tr>\n",
       "    <tr>\n",
       "      <th>64379</th>\n",
       "      <td>2411</td>\n",
       "      <td>77</td>\n",
       "      <td>0</td>\n",
       "      <td>2.987005</td>\n",
       "    </tr>\n",
       "    <tr>\n",
       "      <th>271610</th>\n",
       "      <td>7771</td>\n",
       "      <td>77</td>\n",
       "      <td>0</td>\n",
       "      <td>2.987005</td>\n",
       "    </tr>\n",
       "    <tr>\n",
       "      <th>280551</th>\n",
       "      <td>799</td>\n",
       "      <td>77</td>\n",
       "      <td>0</td>\n",
       "      <td>2.987005</td>\n",
       "    </tr>\n",
       "    <tr>\n",
       "      <th>151701</th>\n",
       "      <td>477</td>\n",
       "      <td>77</td>\n",
       "      <td>0</td>\n",
       "      <td>2.987005</td>\n",
       "    </tr>\n",
       "    <tr>\n",
       "      <th>35344</th>\n",
       "      <td>1633</td>\n",
       "      <td>77</td>\n",
       "      <td>0</td>\n",
       "      <td>2.987005</td>\n",
       "    </tr>\n",
       "    <tr>\n",
       "      <th>64384</th>\n",
       "      <td>2411</td>\n",
       "      <td>77</td>\n",
       "      <td>0</td>\n",
       "      <td>2.987005</td>\n",
       "    </tr>\n",
       "    <tr>\n",
       "      <th>183066</th>\n",
       "      <td>5550</td>\n",
       "      <td>77</td>\n",
       "      <td>0</td>\n",
       "      <td>2.987005</td>\n",
       "    </tr>\n",
       "    <tr>\n",
       "      <th>108959</th>\n",
       "      <td>3563</td>\n",
       "      <td>77</td>\n",
       "      <td>0</td>\n",
       "      <td>2.987005</td>\n",
       "    </tr>\n",
       "    <tr>\n",
       "      <th>280552</th>\n",
       "      <td>799</td>\n",
       "      <td>77</td>\n",
       "      <td>0</td>\n",
       "      <td>2.987005</td>\n",
       "    </tr>\n",
       "    <tr>\n",
       "      <th>8041</th>\n",
       "      <td>1217</td>\n",
       "      <td>77</td>\n",
       "      <td>0</td>\n",
       "      <td>2.987005</td>\n",
       "    </tr>\n",
       "    <tr>\n",
       "      <th>280534</th>\n",
       "      <td>799</td>\n",
       "      <td>77</td>\n",
       "      <td>0</td>\n",
       "      <td>2.987005</td>\n",
       "    </tr>\n",
       "    <tr>\n",
       "      <th>191988</th>\n",
       "      <td>5781</td>\n",
       "      <td>77</td>\n",
       "      <td>0</td>\n",
       "      <td>2.987005</td>\n",
       "    </tr>\n",
       "    <tr>\n",
       "      <th>183017</th>\n",
       "      <td>5550</td>\n",
       "      <td>77</td>\n",
       "      <td>0</td>\n",
       "      <td>2.987005</td>\n",
       "    </tr>\n",
       "    <tr>\n",
       "      <th>144676</th>\n",
       "      <td>4558</td>\n",
       "      <td>77</td>\n",
       "      <td>0</td>\n",
       "      <td>2.987005</td>\n",
       "    </tr>\n",
       "    <tr>\n",
       "      <th>150109</th>\n",
       "      <td>4722</td>\n",
       "      <td>77</td>\n",
       "      <td>0</td>\n",
       "      <td>2.987005</td>\n",
       "    </tr>\n",
       "    <tr>\n",
       "      <th>191986</th>\n",
       "      <td>5781</td>\n",
       "      <td>77</td>\n",
       "      <td>0</td>\n",
       "      <td>2.987005</td>\n",
       "    </tr>\n",
       "    <tr>\n",
       "      <th>108953</th>\n",
       "      <td>3563</td>\n",
       "      <td>77</td>\n",
       "      <td>0</td>\n",
       "      <td>2.987005</td>\n",
       "    </tr>\n",
       "    <tr>\n",
       "      <th>191983</th>\n",
       "      <td>5781</td>\n",
       "      <td>77</td>\n",
       "      <td>0</td>\n",
       "      <td>2.987005</td>\n",
       "    </tr>\n",
       "    <tr>\n",
       "      <th>183064</th>\n",
       "      <td>5550</td>\n",
       "      <td>77</td>\n",
       "      <td>0</td>\n",
       "      <td>2.987005</td>\n",
       "    </tr>\n",
       "    <tr>\n",
       "      <th>282915</th>\n",
       "      <td>8045</td>\n",
       "      <td>77</td>\n",
       "      <td>0</td>\n",
       "      <td>2.987005</td>\n",
       "    </tr>\n",
       "    <tr>\n",
       "      <th>108962</th>\n",
       "      <td>3563</td>\n",
       "      <td>77</td>\n",
       "      <td>0</td>\n",
       "      <td>2.987005</td>\n",
       "    </tr>\n",
       "    <tr>\n",
       "      <th>210459</th>\n",
       "      <td>6245</td>\n",
       "      <td>77</td>\n",
       "      <td>0</td>\n",
       "      <td>2.987005</td>\n",
       "    </tr>\n",
       "    <tr>\n",
       "      <th>108951</th>\n",
       "      <td>3563</td>\n",
       "      <td>77</td>\n",
       "      <td>0</td>\n",
       "      <td>2.987005</td>\n",
       "    </tr>\n",
       "    <tr>\n",
       "      <th>183019</th>\n",
       "      <td>5550</td>\n",
       "      <td>77</td>\n",
       "      <td>0</td>\n",
       "      <td>2.987005</td>\n",
       "    </tr>\n",
       "    <tr>\n",
       "      <th>183023</th>\n",
       "      <td>5550</td>\n",
       "      <td>77</td>\n",
       "      <td>0</td>\n",
       "      <td>2.987005</td>\n",
       "    </tr>\n",
       "    <tr>\n",
       "      <th>108961</th>\n",
       "      <td>3563</td>\n",
       "      <td>77</td>\n",
       "      <td>0</td>\n",
       "      <td>2.987005</td>\n",
       "    </tr>\n",
       "    <tr>\n",
       "      <th>151702</th>\n",
       "      <td>477</td>\n",
       "      <td>77</td>\n",
       "      <td>0</td>\n",
       "      <td>2.987005</td>\n",
       "    </tr>\n",
       "    <tr>\n",
       "      <th>144673</th>\n",
       "      <td>4558</td>\n",
       "      <td>77</td>\n",
       "      <td>0</td>\n",
       "      <td>2.987005</td>\n",
       "    </tr>\n",
       "    <tr>\n",
       "      <th>...</th>\n",
       "      <td>...</td>\n",
       "      <td>...</td>\n",
       "      <td>...</td>\n",
       "      <td>...</td>\n",
       "    </tr>\n",
       "    <tr>\n",
       "      <th>92972</th>\n",
       "      <td>3213</td>\n",
       "      <td>19</td>\n",
       "      <td>0</td>\n",
       "      <td>-2.281945</td>\n",
       "    </tr>\n",
       "    <tr>\n",
       "      <th>92973</th>\n",
       "      <td>3213</td>\n",
       "      <td>19</td>\n",
       "      <td>0</td>\n",
       "      <td>-2.281945</td>\n",
       "    </tr>\n",
       "    <tr>\n",
       "      <th>92974</th>\n",
       "      <td>3213</td>\n",
       "      <td>19</td>\n",
       "      <td>0</td>\n",
       "      <td>-2.281945</td>\n",
       "    </tr>\n",
       "    <tr>\n",
       "      <th>92977</th>\n",
       "      <td>3213</td>\n",
       "      <td>19</td>\n",
       "      <td>0</td>\n",
       "      <td>-2.281945</td>\n",
       "    </tr>\n",
       "    <tr>\n",
       "      <th>92979</th>\n",
       "      <td>3213</td>\n",
       "      <td>19</td>\n",
       "      <td>0</td>\n",
       "      <td>-2.281945</td>\n",
       "    </tr>\n",
       "    <tr>\n",
       "      <th>45776</th>\n",
       "      <td>1926</td>\n",
       "      <td>19</td>\n",
       "      <td>0</td>\n",
       "      <td>-2.281945</td>\n",
       "    </tr>\n",
       "    <tr>\n",
       "      <th>198763</th>\n",
       "      <td>5946</td>\n",
       "      <td>19</td>\n",
       "      <td>0</td>\n",
       "      <td>-2.281945</td>\n",
       "    </tr>\n",
       "    <tr>\n",
       "      <th>198767</th>\n",
       "      <td>5946</td>\n",
       "      <td>19</td>\n",
       "      <td>0</td>\n",
       "      <td>-2.281945</td>\n",
       "    </tr>\n",
       "    <tr>\n",
       "      <th>188650</th>\n",
       "      <td>5691</td>\n",
       "      <td>19</td>\n",
       "      <td>0</td>\n",
       "      <td>-2.281945</td>\n",
       "    </tr>\n",
       "    <tr>\n",
       "      <th>198768</th>\n",
       "      <td>5946</td>\n",
       "      <td>19</td>\n",
       "      <td>0</td>\n",
       "      <td>-2.281945</td>\n",
       "    </tr>\n",
       "    <tr>\n",
       "      <th>146470</th>\n",
       "      <td>4612</td>\n",
       "      <td>19</td>\n",
       "      <td>0</td>\n",
       "      <td>-2.281945</td>\n",
       "    </tr>\n",
       "    <tr>\n",
       "      <th>146469</th>\n",
       "      <td>4612</td>\n",
       "      <td>19</td>\n",
       "      <td>0</td>\n",
       "      <td>-2.281945</td>\n",
       "    </tr>\n",
       "    <tr>\n",
       "      <th>188647</th>\n",
       "      <td>5691</td>\n",
       "      <td>19</td>\n",
       "      <td>0</td>\n",
       "      <td>-2.281945</td>\n",
       "    </tr>\n",
       "    <tr>\n",
       "      <th>188641</th>\n",
       "      <td>5691</td>\n",
       "      <td>19</td>\n",
       "      <td>0</td>\n",
       "      <td>-2.281945</td>\n",
       "    </tr>\n",
       "    <tr>\n",
       "      <th>146465</th>\n",
       "      <td>4612</td>\n",
       "      <td>19</td>\n",
       "      <td>0</td>\n",
       "      <td>-2.281945</td>\n",
       "    </tr>\n",
       "    <tr>\n",
       "      <th>43888</th>\n",
       "      <td>1873</td>\n",
       "      <td>19</td>\n",
       "      <td>0</td>\n",
       "      <td>-2.281945</td>\n",
       "    </tr>\n",
       "    <tr>\n",
       "      <th>203894</th>\n",
       "      <td>6072</td>\n",
       "      <td>19</td>\n",
       "      <td>0</td>\n",
       "      <td>-2.281945</td>\n",
       "    </tr>\n",
       "    <tr>\n",
       "      <th>203893</th>\n",
       "      <td>6072</td>\n",
       "      <td>19</td>\n",
       "      <td>0</td>\n",
       "      <td>-2.281945</td>\n",
       "    </tr>\n",
       "    <tr>\n",
       "      <th>203892</th>\n",
       "      <td>6072</td>\n",
       "      <td>19</td>\n",
       "      <td>0</td>\n",
       "      <td>-2.281945</td>\n",
       "    </tr>\n",
       "    <tr>\n",
       "      <th>47398</th>\n",
       "      <td>1967</td>\n",
       "      <td>19</td>\n",
       "      <td>0</td>\n",
       "      <td>-2.281945</td>\n",
       "    </tr>\n",
       "    <tr>\n",
       "      <th>115559</th>\n",
       "      <td>3743</td>\n",
       "      <td>19</td>\n",
       "      <td>0</td>\n",
       "      <td>-2.281945</td>\n",
       "    </tr>\n",
       "    <tr>\n",
       "      <th>296024</th>\n",
       "      <td>8413</td>\n",
       "      <td>19</td>\n",
       "      <td>0</td>\n",
       "      <td>-2.281945</td>\n",
       "    </tr>\n",
       "    <tr>\n",
       "      <th>296025</th>\n",
       "      <td>8413</td>\n",
       "      <td>19</td>\n",
       "      <td>0</td>\n",
       "      <td>-2.281945</td>\n",
       "    </tr>\n",
       "    <tr>\n",
       "      <th>296026</th>\n",
       "      <td>8413</td>\n",
       "      <td>19</td>\n",
       "      <td>0</td>\n",
       "      <td>-2.281945</td>\n",
       "    </tr>\n",
       "    <tr>\n",
       "      <th>296027</th>\n",
       "      <td>8413</td>\n",
       "      <td>19</td>\n",
       "      <td>0</td>\n",
       "      <td>-2.281945</td>\n",
       "    </tr>\n",
       "    <tr>\n",
       "      <th>296028</th>\n",
       "      <td>8413</td>\n",
       "      <td>19</td>\n",
       "      <td>0</td>\n",
       "      <td>-2.281945</td>\n",
       "    </tr>\n",
       "    <tr>\n",
       "      <th>296029</th>\n",
       "      <td>8413</td>\n",
       "      <td>19</td>\n",
       "      <td>0</td>\n",
       "      <td>-2.281945</td>\n",
       "    </tr>\n",
       "    <tr>\n",
       "      <th>296032</th>\n",
       "      <td>8413</td>\n",
       "      <td>19</td>\n",
       "      <td>0</td>\n",
       "      <td>-2.281945</td>\n",
       "    </tr>\n",
       "    <tr>\n",
       "      <th>296040</th>\n",
       "      <td>8413</td>\n",
       "      <td>19</td>\n",
       "      <td>0</td>\n",
       "      <td>-2.281945</td>\n",
       "    </tr>\n",
       "    <tr>\n",
       "      <th>285139</th>\n",
       "      <td>8115</td>\n",
       "      <td>19</td>\n",
       "      <td>0</td>\n",
       "      <td>-2.281945</td>\n",
       "    </tr>\n",
       "  </tbody>\n",
       "</table>\n",
       "<p>305049 rows × 4 columns</p>\n",
       "</div>"
      ],
      "text/plain": [
       "       client_id  age  categ  standardized\n",
       "151693       477   77      0      2.987005\n",
       "35343       1633   77      0      2.987005\n",
       "64379       2411   77      0      2.987005\n",
       "271610      7771   77      0      2.987005\n",
       "280551       799   77      0      2.987005\n",
       "151701       477   77      0      2.987005\n",
       "35344       1633   77      0      2.987005\n",
       "64384       2411   77      0      2.987005\n",
       "183066      5550   77      0      2.987005\n",
       "108959      3563   77      0      2.987005\n",
       "280552       799   77      0      2.987005\n",
       "8041        1217   77      0      2.987005\n",
       "280534       799   77      0      2.987005\n",
       "191988      5781   77      0      2.987005\n",
       "183017      5550   77      0      2.987005\n",
       "144676      4558   77      0      2.987005\n",
       "150109      4722   77      0      2.987005\n",
       "191986      5781   77      0      2.987005\n",
       "108953      3563   77      0      2.987005\n",
       "191983      5781   77      0      2.987005\n",
       "183064      5550   77      0      2.987005\n",
       "282915      8045   77      0      2.987005\n",
       "108962      3563   77      0      2.987005\n",
       "210459      6245   77      0      2.987005\n",
       "108951      3563   77      0      2.987005\n",
       "183019      5550   77      0      2.987005\n",
       "183023      5550   77      0      2.987005\n",
       "108961      3563   77      0      2.987005\n",
       "151702       477   77      0      2.987005\n",
       "144673      4558   77      0      2.987005\n",
       "...          ...  ...    ...           ...\n",
       "92972       3213   19      0     -2.281945\n",
       "92973       3213   19      0     -2.281945\n",
       "92974       3213   19      0     -2.281945\n",
       "92977       3213   19      0     -2.281945\n",
       "92979       3213   19      0     -2.281945\n",
       "45776       1926   19      0     -2.281945\n",
       "198763      5946   19      0     -2.281945\n",
       "198767      5946   19      0     -2.281945\n",
       "188650      5691   19      0     -2.281945\n",
       "198768      5946   19      0     -2.281945\n",
       "146470      4612   19      0     -2.281945\n",
       "146469      4612   19      0     -2.281945\n",
       "188647      5691   19      0     -2.281945\n",
       "188641      5691   19      0     -2.281945\n",
       "146465      4612   19      0     -2.281945\n",
       "43888       1873   19      0     -2.281945\n",
       "203894      6072   19      0     -2.281945\n",
       "203893      6072   19      0     -2.281945\n",
       "203892      6072   19      0     -2.281945\n",
       "47398       1967   19      0     -2.281945\n",
       "115559      3743   19      0     -2.281945\n",
       "296024      8413   19      0     -2.281945\n",
       "296025      8413   19      0     -2.281945\n",
       "296026      8413   19      0     -2.281945\n",
       "296027      8413   19      0     -2.281945\n",
       "296028      8413   19      0     -2.281945\n",
       "296029      8413   19      0     -2.281945\n",
       "296032      8413   19      0     -2.281945\n",
       "296040      8413   19      0     -2.281945\n",
       "285139      8115   19      0     -2.281945\n",
       "\n",
       "[305049 rows x 4 columns]"
      ]
     },
     "execution_count": 110,
     "metadata": {},
     "output_type": "execute_result"
    }
   ],
   "source": [
    "age_categ_out"
   ]
  },
  {
   "cell_type": "markdown",
   "metadata": {},
   "source": [
    "# Corrélation entre l'âge et la taille du panier"
   ]
  },
  {
   "cell_type": "code",
   "execution_count": 106,
   "metadata": {},
   "outputs": [],
   "source": [
    "basket = df_revenues_for_c\n",
    "basket[\"nb_products\"] = 1  \n",
    "# On groupe par cleint et par age\n",
    "basket = basket.groupby([\"client_id\", \"age\", \"session_id\"])[\n",
    "    [\"nb_products\"]].sum()\n",
    "# On ajoute une colonne pour calculer le nombre de session\n",
    "basket[\"nb_sessions\"] = 1\n",
    "basket = basket.groupby([\"client_id\", \"age\"])[\n",
    "    [\"nb_products\", \"nb_sessions\"]].sum()\n",
    "basket.reset_index(inplace=True)\n",
    "# On calcule maintenant le panier moyen\n",
    "basket[\"average_nb_products\"] = basket[\"nb_products\"]/basket[\"nb_sessions\"]"
   ]
  },
  {
   "cell_type": "code",
   "execution_count": 107,
   "metadata": {},
   "outputs": [
    {
     "data": {
      "text/html": [
       "<div>\n",
       "<style scoped>\n",
       "    .dataframe tbody tr th:only-of-type {\n",
       "        vertical-align: middle;\n",
       "    }\n",
       "\n",
       "    .dataframe tbody tr th {\n",
       "        vertical-align: top;\n",
       "    }\n",
       "\n",
       "    .dataframe thead th {\n",
       "        text-align: right;\n",
       "    }\n",
       "</style>\n",
       "<table border=\"1\" class=\"dataframe\">\n",
       "  <thead>\n",
       "    <tr style=\"text-align: right;\">\n",
       "      <th></th>\n",
       "      <th>client_id</th>\n",
       "      <th>age</th>\n",
       "      <th>nb_products</th>\n",
       "      <th>nb_sessions</th>\n",
       "      <th>average_nb_products</th>\n",
       "    </tr>\n",
       "  </thead>\n",
       "  <tbody>\n",
       "    <tr>\n",
       "      <th>0</th>\n",
       "      <td>1</td>\n",
       "      <td>67</td>\n",
       "      <td>19</td>\n",
       "      <td>14</td>\n",
       "      <td>1.357143</td>\n",
       "    </tr>\n",
       "    <tr>\n",
       "      <th>1</th>\n",
       "      <td>10</td>\n",
       "      <td>66</td>\n",
       "      <td>28</td>\n",
       "      <td>16</td>\n",
       "      <td>1.750000</td>\n",
       "    </tr>\n",
       "    <tr>\n",
       "      <th>2</th>\n",
       "      <td>100</td>\n",
       "      <td>30</td>\n",
       "      <td>6</td>\n",
       "      <td>3</td>\n",
       "      <td>2.000000</td>\n",
       "    </tr>\n",
       "    <tr>\n",
       "      <th>3</th>\n",
       "      <td>1000</td>\n",
       "      <td>56</td>\n",
       "      <td>53</td>\n",
       "      <td>40</td>\n",
       "      <td>1.325000</td>\n",
       "    </tr>\n",
       "    <tr>\n",
       "      <th>4</th>\n",
       "      <td>1001</td>\n",
       "      <td>40</td>\n",
       "      <td>52</td>\n",
       "      <td>21</td>\n",
       "      <td>2.476190</td>\n",
       "    </tr>\n",
       "  </tbody>\n",
       "</table>\n",
       "</div>"
      ],
      "text/plain": [
       "  client_id  age  nb_products  nb_sessions  average_nb_products\n",
       "0         1   67           19           14             1.357143\n",
       "1        10   66           28           16             1.750000\n",
       "2       100   30            6            3             2.000000\n",
       "3      1000   56           53           40             1.325000\n",
       "4      1001   40           52           21             2.476190"
      ]
     },
     "execution_count": 107,
     "metadata": {},
     "output_type": "execute_result"
    }
   ],
   "source": [
    "basket.head()"
   ]
  },
  {
   "cell_type": "code",
   "execution_count": 108,
   "metadata": {},
   "outputs": [
    {
     "name": "stdout",
     "output_type": "stream",
     "text": [
      "                             OLS Regression Results                            \n",
      "===============================================================================\n",
      "Dep. Variable:     average_nb_products   R-squared:                       0.071\n",
      "Model:                             OLS   Adj. R-squared:                  0.070\n",
      "Method:                  Least Squares   F-statistic:                     619.6\n",
      "Date:                 Thu, 08 Nov 2018   Prob (F-statistic):          7.06e-132\n",
      "Time:                         17:36:47   Log-Likelihood:                -7877.1\n",
      "No. Observations:                 8161   AIC:                         1.576e+04\n",
      "Df Residuals:                     8159   BIC:                         1.577e+04\n",
      "Df Model:                            1                                         \n",
      "Covariance Type:             nonrobust                                         \n",
      "==============================================================================\n",
      "                 coef    std err          t      P>|t|      [0.025      0.975]\n",
      "------------------------------------------------------------------------------\n",
      "age           -0.0108      0.000    -24.891      0.000      -0.012      -0.010\n",
      "intercept      2.4932      0.021    120.082      0.000       2.452       2.534\n",
      "==============================================================================\n",
      "Omnibus:                      807.735   Durbin-Watson:                   1.984\n",
      "Prob(Omnibus):                  0.000   Jarque-Bera (JB):             1394.144\n",
      "Skew:                           0.696   Prob(JB):                    1.84e-303\n",
      "Kurtosis:                       4.471   Cond. No.                         142.\n",
      "==============================================================================\n",
      "\n",
      "Warnings:\n",
      "[1] Standard Errors assume that the covariance matrix of the errors is correctly specified.\n"
     ]
    }
   ],
   "source": [
    "Y = basket[\"average_nb_products\"]\n",
    "X = basket[[\"age\"]]\n",
    "X1 = X.copy()\n",
    "\n",
    "X1[\"intercept\"] = 1\n",
    "# Fit regression model\n",
    "results = sm.OLS(Y, X1).fit()\n",
    "# Inspect the results\n",
    "print(results.summary())\n",
    "# Save the results to then draw the model\n",
    "a3, b3 = results.params[\"age\"], results.params[\"intercept\"]"
   ]
  },
  {
   "cell_type": "code",
   "execution_count": 109,
   "metadata": {},
   "outputs": [
    {
     "data": {
      "image/png": "[encoded data removed]",
      "text/plain": [
       "<Figure size 432x288 with 1 Axes>"
      ]
     },
     "metadata": {},
     "output_type": "display_data"
    }
   ],
   "source": [
    "# Use statsmodels.api\n",
    "# We plot the scatter plot\n",
    "plt.plot(basket.age, basket.average_nb_products, \"o\", alpha=0.3)\n",
    "\n",
    "# We draw the liner regression model\n",
    "plt.plot(np.arange(min_model, max_model), [\n",
    "         a3*x+b3 for x in np.arange(min_model, max_model)], linewidth=4)\n",
    "\n",
    "# Labels\n",
    "label = plt.xlabel(\"Age\", fontsize=15)\n",
    "label = plt.ylabel(\"Size basket\", fontsize=15)\n",
    "plt.tick_params(labelsize=15)\n",
    "# We define the title of the axes.\n",
    "titre = \"Relation entre l'âge et la taille du panier\"\n",
    "title = plt.title(titre, fontsize=17)\n",
    "\n",
    "\n",
    "# We save the figure\n",
    "plt.savefig('relation_age_size_basket.png')"
   ]
  },
  {
   "cell_type": "code",
   "execution_count": null,
   "metadata": {},
   "outputs": [],
   "source": []
  },
  {
   "cell_type": "code",
   "execution_count": null,
   "metadata": {},
   "outputs": [],
   "source": []
  },
  {
   "cell_type": "code",
   "execution_count": null,
   "metadata": {},
   "outputs": [],
   "source": []
  },
  {
   "cell_type": "code",
   "execution_count": null,
   "metadata": {},
   "outputs": [],
   "source": []
  }
 ],
 "metadata": {
  "kernelspec": {
   "display_name": "Python 3",
   "language": "python",
   "name": "python3"
  },
  "language_info": {
   "codemirror_mode": {
    "name": "ipython",
    "version": 3
   },
   "file_extension": ".py",
   "mimetype": "text/x-python",
   "name": "python",
   "nbconvert_exporter": "python",
   "pygments_lexer": "ipython3",
   "version": "3.6.5"
  }
 },
 "nbformat": 4,
 "nbformat_minor": 2
}
